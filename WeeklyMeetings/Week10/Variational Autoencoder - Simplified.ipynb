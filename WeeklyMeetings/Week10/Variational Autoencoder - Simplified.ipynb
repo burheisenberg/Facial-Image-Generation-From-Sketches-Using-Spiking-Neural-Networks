{
 "cells": [
  {
   "cell_type": "markdown",
   "metadata": {
    "id": "3oKG2sgwikhm"
   },
   "source": [
    "# Coming from TensorFlow to NengoDL\n",
    "\n",
    "[![Open In\n",
    "Colab](https://colab.research.google.com/assets/colab-badge.svg)](https://colab.research.google.com/github/nengo/nengo-dl/blob/master/docs/examples/from-tensorflow.ipynb)\n",
    "\n",
    "NengoDL combines two frameworks: Nengo and TensorFlow.  This tutorial is designed for\n",
    "people who are familiar with TensorFlow and looking to learn more about neuromorphic\n",
    "modelling with NengoDL.  For the other approach, users familiar with Nengo looking to\n",
    "learn how to use NengoDL, check out [this\n",
    "tutorial](https://www.nengo.ai/nengo-dl/examples/from-nengo.html).\n",
    "\n",
    "If you are familiar with Keras you may also be interested in\n",
    "[KerasSpiking](https://www.nengo.ai/keras-spiking/), a companion project to NengoDL\n",
    "that has a more minimal feature set, but integrates even more transparently with the\n",
    "Keras API. See [this page](https://www.nengo.ai/keras-spiking/nengo-dl-comparison.html)\n",
    "for a more detailed comparison between the two projects."
   ]
  },
  {
   "cell_type": "code",
   "execution_count": 1,
   "metadata": {
    "colab": {
     "base_uri": "https://localhost:8080/",
     "height": 399
    },
    "id": "JWh0R7ADikhr",
    "outputId": "577d7f70-c7e7-450b-ef54-39c2df65e292"
   },
   "outputs": [],
   "source": [
    "%matplotlib inline\n",
    "\n",
    "import warnings\n",
    "\n",
    "import matplotlib.pyplot as plt\n",
    "import nengo\n",
    "from nengo.utils.matplotlib import rasterplot\n",
    "import numpy as np\n",
    "import tensorflow as tf\n",
    "from tensorflow.keras import layers, Model\n",
    "from tensorflow.keras.losses import binary_crossentropy\n",
    "\n",
    "import nengo_dl\n",
    "\n",
    "\n",
    "warnings.simplefilter(\"ignore\")\n",
    "tf.get_logger().addFilter(lambda rec: \"Tracing is expensive\" not in rec.msg)"
   ]
  },
  {
   "cell_type": "code",
   "execution_count": 38,
   "metadata": {},
   "outputs": [],
   "source": [
    "from tensorflow.keras.datasets import mnist\n",
    "\n",
    "physical_devices = tf.config.experimental.list_physical_devices('GPU')\n",
    "if physical_devices:\n",
    "    for device in physical_devices:\n",
    "        tf.config.experimental.set_memory_growth(device, True)\n"
   ]
  },
  {
   "cell_type": "markdown",
   "metadata": {
    "id": "e47sgSArikht"
   },
   "source": [
    "## What is Nengo\n",
    "\n",
    "We'll start with the very basics, where you might be wondering what Nengo is and why you\n",
    "would want to use it.  Nengo is a tool for constructing and simulating neural networks.\n",
    "That is, to some extent, the same purpose as TensorFlow (and its higher level API,\n",
    "Keras).  For example, here is how we might build a simple two layer auto-encoder network\n",
    "in Nengo:"
   ]
  },
  {
   "cell_type": "code",
   "execution_count": 39,
   "metadata": {},
   "outputs": [],
   "source": [
    "n_in = 784\n",
    "n_hidden = 20\n",
    "minibatch_size = 60"
   ]
  },
  {
   "cell_type": "code",
   "execution_count": 40,
   "metadata": {},
   "outputs": [
    {
     "name": "stdout",
     "output_type": "stream",
     "text": [
      "L_KLD:\n",
      "0.0\n",
      "L_MSE:\n",
      "0.0\n"
     ]
    }
   ],
   "source": [
    "# Construct the network\n",
    "with nengo.Network() as model:\n",
    "    # set up some default parameters to match the Keras defaults\n",
    "    model.config[nengo.Ensemble].gain = nengo.dists.Choice([1])\n",
    "    model.config[nengo.Ensemble].bias = nengo.dists.Choice([0.001])\n",
    "    model.config[nengo.Connection].synapse = None\n",
    "    model.config[nengo.Connection].transform = nengo_dl.dists.He()\n",
    "    model.config[nengo.Ensemble].max_rates = nengo.dists.Choice([100])\n",
    "    model.config[nengo.Ensemble].intercepts = nengo.dists.Choice([0])\n",
    "    neuron_type = nengo.LIF(amplitude=0.01)\n",
    "    # input\n",
    "    nengo_a = nengo.Node(np.zeros(n_in))\n",
    "\n",
    "    # encoder layer\n",
    "    nengo_b = nengo.Ensemble(n_hidden, 1,radius=1)\n",
    "    nengo.Connection(nengo_a, nengo_b.neurons)\n",
    "    \n",
    "    nengo_c = nengo.Ensemble(n_hidden, 2,radius=1.5)\n",
    "    nengo.Connection(nengo_b.neurons, nengo_c[0])\n",
    "    nengo.Connection(nengo_b.neurons, nengo_c[1])\n",
    "    def reparameterize(x):\n",
    "        eps=0*tf.random.normal(shape=[1])\n",
    "        return x[0] + eps*tf.math.exp(0.5*float(x[1]))\n",
    "    \n",
    "    # decoder layer\n",
    "    nengo_d = nengo.Ensemble(n_in, 1,radius=1)\n",
    "    nengo.Connection(nengo_c, nengo_d.neurons, function=reparameterize)\n",
    "    \n",
    "    # define the loss functions\n",
    "    def L_KLD(x):\n",
    "        # x[0]: mean, mu, c[0]\n",
    "        # x[1]: logvar, sigma, c[1]\n",
    "#         print(\"L_KLD.shape: \")\n",
    "#         print(x.shape)\n",
    "        return 0\n",
    "        return -0.5*(1+x[1]-x[0]**2-tf.math.exp(float(x[1])))\n",
    "    def L_MSE(x):\n",
    "        # x[0]: original data, e[0]\n",
    "        # x[1]: reconstructed, e[1]\n",
    "#         print(\"L_MSE.shape: \")\n",
    "# #         print(x.shape)\n",
    "#         print(\"MSE:\")\n",
    "#         print(x[0])\n",
    "#         print(x[1])\n",
    "#         print(n_in*(x[0]-x[1])**2)\n",
    "        return n_in*(x[0]-x[1])**2\n",
    "    def L_TOTAL(x):\n",
    "        # x[0]: L_KLD, L[0]\n",
    "        # x[1]: L_MSE, L[1]\n",
    "#         print(\"L_TOTAL.shape: \")\n",
    "#         print(x.shape)\n",
    "        print(\"L_KLD:\")\n",
    "        print(x[0])\n",
    "        print(\"L_MSE:\")\n",
    "        print(x[1])\n",
    "        return x[0]+x[1]+1e-8\n",
    "    \n",
    "    nengo_e = nengo.Ensemble(n_in,2,radius=1.5)\n",
    "    nengo.Connection(nengo_a,nengo_e[0])\n",
    "    nengo.Connection(nengo_d,nengo_e[1])\n",
    "    \n",
    "    nengo_l = nengo.Ensemble(1,2,radius=1.5)\n",
    "    nengo.Connection(nengo_c,nengo_l[0],function=L_KLD)\n",
    "    nengo.Connection(nengo_e,nengo_l[1],function=L_MSE)\n",
    "    \n",
    "    nengo_loss = nengo.Ensemble(1,1,radius=1)\n",
    "    nengo.Connection(nengo_l,nengo_loss,function=L_TOTAL)\n",
    "    \n",
    "    # probes are used to collect data from the network\n",
    "    #p_l = nengo.Probe(nengo_loss.neurons)\n",
    "    p_d = nengo.Probe(nengo_d.neurons)\n",
    "    \n",
    "    \n",
    "#     p_c = nengo.Probe(nengo_c.neurons)\n",
    "#     p_b = nengo.Probe(nengo_b.neurons)\n",
    "#     p_a = nengo.Probe(nengo_a)\n",
    "    \n",
    "#     print(\"nengo_a.params: \")\n",
    "#     for p in nengo_a:\n",
    "#         print(p)\n",
    "\n",
    "#     print(\"nengo_b.params: \")\n",
    "#     for p in nengo_b:\n",
    "#         print(p)\n",
    "\n",
    "#     print(\"nengo_c.params: \")\n",
    "#     for p in nengo_c:\n",
    "#         print(p)\n",
    "\n",
    "#     print(\"nengo_d.params: \")\n",
    "#     for p in nengo_d:\n",
    "#         print(p)\n",
    "        \n",
    "#     print(\"p_d:\")\n",
    "#     print(nengo_d.probeable)\n",
    "#     for p in p_d.params:\n",
    "#         print(p)\n",
    "#     print(\"p_c:\")\n",
    "#     print(nengo_c.probeable)\n",
    "#     for p in p_c.params:\n",
    "#         print(p)\n",
    "#     print(\"p_b:\")\n",
    "#     print(nengo_b.probeable)\n",
    "#     for p in p_b.params:\n",
    "#         print(p)\n",
    "#     print(\"p_a:\")\n",
    "#     print(nengo_a.probeable)\n",
    "#     for p in p_a.params:\n",
    "#         print(p)"
   ]
  },
  {
   "cell_type": "code",
   "execution_count": 41,
   "metadata": {},
   "outputs": [
    {
     "name": "stdout",
     "output_type": "stream",
     "text": [
      "(10000, 1, 784)\n",
      "|#####################Building network (55%)                     | ETA: 0:00:07\n"
     ]
    },
    {
     "ename": "BuildError",
     "evalue": "Building <Connection from <Ensemble (unlabeled) at 0x2cefc2c7ac8> to <Neurons of <Ensemble (unlabeled) at 0x2cebc36cac8>> computing 'reparameterize'>: 'activities' matrix is all zero for <Ensemble (unlabeled) at 0x2cefc2c7ac8>. This is because no evaluation points fall in the firing ranges of any neurons.",
     "output_type": "error",
     "traceback": [
      "\u001b[1;31m---------------------------------------------------------------------------\u001b[0m",
      "\u001b[1;31mBuildError\u001b[0m                                Traceback (most recent call last)",
      "\u001b[1;32m~\\AppData\\Roaming\\Python\\Python37\\site-packages\\nengo_dl\\builder.py\u001b[0m in \u001b[0;36mbuild\u001b[1;34m(cls, model, obj, *args, **kwargs)\u001b[0m\n\u001b[0;32m    325\u001b[0m             return builder.Builder.build.__func__(\n\u001b[1;32m--> 326\u001b[1;33m                 \u001b[0mNengoBuilder\u001b[0m\u001b[1;33m,\u001b[0m \u001b[0mmodel\u001b[0m\u001b[1;33m,\u001b[0m \u001b[0mobj\u001b[0m\u001b[1;33m,\u001b[0m \u001b[1;33m*\u001b[0m\u001b[0margs\u001b[0m\u001b[1;33m,\u001b[0m \u001b[1;33m**\u001b[0m\u001b[0mkwargs\u001b[0m\u001b[1;33m\u001b[0m\u001b[1;33m\u001b[0m\u001b[0m\n\u001b[0m\u001b[0;32m    327\u001b[0m             )\n",
      "\u001b[1;32m~\\anaconda3\\envs\\nengo\\lib\\site-packages\\nengo\\builder\\builder.py\u001b[0m in \u001b[0;36mbuild\u001b[1;34m(cls, model, obj, *args, **kwargs)\u001b[0m\n\u001b[0;32m    240\u001b[0m \u001b[1;33m\u001b[0m\u001b[0m\n\u001b[1;32m--> 241\u001b[1;33m         \u001b[1;32mraise\u001b[0m \u001b[0mBuildError\u001b[0m\u001b[1;33m(\u001b[0m\u001b[1;34mf\"Cannot build object of type '{type(obj).__name__}'\"\u001b[0m\u001b[1;33m)\u001b[0m\u001b[1;33m\u001b[0m\u001b[1;33m\u001b[0m\u001b[0m\n\u001b[0m\u001b[0;32m    242\u001b[0m \u001b[1;33m\u001b[0m\u001b[0m\n",
      "\u001b[1;31mBuildError\u001b[0m: Cannot build object of type 'Network'",
      "\nDuring handling of the above exception, another exception occurred:\n",
      "\u001b[1;31mBuildError\u001b[0m                                Traceback (most recent call last)",
      "\u001b[1;32m~\\AppData\\Roaming\\Python\\Python37\\site-packages\\nengo_dl\\builder.py\u001b[0m in \u001b[0;36mbuild\u001b[1;34m(cls, model, obj, *args, **kwargs)\u001b[0m\n\u001b[0;32m    325\u001b[0m             return builder.Builder.build.__func__(\n\u001b[1;32m--> 326\u001b[1;33m                 \u001b[0mNengoBuilder\u001b[0m\u001b[1;33m,\u001b[0m \u001b[0mmodel\u001b[0m\u001b[1;33m,\u001b[0m \u001b[0mobj\u001b[0m\u001b[1;33m,\u001b[0m \u001b[1;33m*\u001b[0m\u001b[0margs\u001b[0m\u001b[1;33m,\u001b[0m \u001b[1;33m**\u001b[0m\u001b[0mkwargs\u001b[0m\u001b[1;33m\u001b[0m\u001b[1;33m\u001b[0m\u001b[0m\n\u001b[0m\u001b[0;32m    327\u001b[0m             )\n",
      "\u001b[1;32m~\\anaconda3\\envs\\nengo\\lib\\site-packages\\nengo\\builder\\builder.py\u001b[0m in \u001b[0;36mbuild\u001b[1;34m(cls, model, obj, *args, **kwargs)\u001b[0m\n\u001b[0;32m    240\u001b[0m \u001b[1;33m\u001b[0m\u001b[0m\n\u001b[1;32m--> 241\u001b[1;33m         \u001b[1;32mraise\u001b[0m \u001b[0mBuildError\u001b[0m\u001b[1;33m(\u001b[0m\u001b[1;34mf\"Cannot build object of type '{type(obj).__name__}'\"\u001b[0m\u001b[1;33m)\u001b[0m\u001b[1;33m\u001b[0m\u001b[1;33m\u001b[0m\u001b[0m\n\u001b[0m\u001b[0;32m    242\u001b[0m \u001b[1;33m\u001b[0m\u001b[0m\n",
      "\u001b[1;31mBuildError\u001b[0m: Cannot build object of type 'Connection'",
      "\nDuring handling of the above exception, another exception occurred:\n",
      "\u001b[1;31mBuildError\u001b[0m                                Traceback (most recent call last)",
      "\u001b[1;32m~\\AppData\\Roaming\\Python\\Python37\\site-packages\\nengo_dl\\builder.py\u001b[0m in \u001b[0;36mbuild\u001b[1;34m(cls, model, obj, *args, **kwargs)\u001b[0m\n\u001b[0;32m    325\u001b[0m             return builder.Builder.build.__func__(\n\u001b[1;32m--> 326\u001b[1;33m                 \u001b[0mNengoBuilder\u001b[0m\u001b[1;33m,\u001b[0m \u001b[0mmodel\u001b[0m\u001b[1;33m,\u001b[0m \u001b[0mobj\u001b[0m\u001b[1;33m,\u001b[0m \u001b[1;33m*\u001b[0m\u001b[0margs\u001b[0m\u001b[1;33m,\u001b[0m \u001b[1;33m**\u001b[0m\u001b[0mkwargs\u001b[0m\u001b[1;33m\u001b[0m\u001b[1;33m\u001b[0m\u001b[0m\n\u001b[0m\u001b[0;32m    327\u001b[0m             )\n",
      "\u001b[1;32m~\\anaconda3\\envs\\nengo\\lib\\site-packages\\nengo\\builder\\builder.py\u001b[0m in \u001b[0;36mbuild\u001b[1;34m(cls, model, obj, *args, **kwargs)\u001b[0m\n\u001b[0;32m    240\u001b[0m \u001b[1;33m\u001b[0m\u001b[0m\n\u001b[1;32m--> 241\u001b[1;33m         \u001b[1;32mraise\u001b[0m \u001b[0mBuildError\u001b[0m\u001b[1;33m(\u001b[0m\u001b[1;34mf\"Cannot build object of type '{type(obj).__name__}'\"\u001b[0m\u001b[1;33m)\u001b[0m\u001b[1;33m\u001b[0m\u001b[1;33m\u001b[0m\u001b[0m\n\u001b[0m\u001b[0;32m    242\u001b[0m \u001b[1;33m\u001b[0m\u001b[0m\n",
      "\u001b[1;31mBuildError\u001b[0m: Cannot build object of type 'LstsqL2'",
      "\nDuring handling of the above exception, another exception occurred:\n",
      "\u001b[1;31mBuildError\u001b[0m                                Traceback (most recent call last)",
      "\u001b[1;32m~\\AppData\\Local\\Temp\\ipykernel_10904\\942122958.py\u001b[0m in \u001b[0;36m<module>\u001b[1;34m\u001b[0m\n\u001b[0;32m     21\u001b[0m \u001b[0mprint\u001b[0m\u001b[1;33m(\u001b[0m\u001b[0mtest_data\u001b[0m\u001b[1;33m.\u001b[0m\u001b[0mshape\u001b[0m\u001b[1;33m)\u001b[0m\u001b[1;33m\u001b[0m\u001b[1;33m\u001b[0m\u001b[0m\n\u001b[0;32m     22\u001b[0m \u001b[1;31m# Simulate the Nengo network\u001b[0m\u001b[1;33m\u001b[0m\u001b[1;33m\u001b[0m\u001b[1;33m\u001b[0m\u001b[0m\n\u001b[1;32m---> 23\u001b[1;33m \u001b[1;32mwith\u001b[0m \u001b[0mnengo_dl\u001b[0m\u001b[1;33m.\u001b[0m\u001b[0mSimulator\u001b[0m\u001b[1;33m(\u001b[0m\u001b[0mmodel\u001b[0m\u001b[1;33m,\u001b[0m\u001b[0mminibatch_size\u001b[0m\u001b[1;33m=\u001b[0m\u001b[0mminibatch_size\u001b[0m\u001b[1;33m)\u001b[0m \u001b[1;32mas\u001b[0m \u001b[0msim\u001b[0m\u001b[1;33m:\u001b[0m\u001b[1;33m\u001b[0m\u001b[1;33m\u001b[0m\u001b[0m\n\u001b[0m\u001b[0;32m     24\u001b[0m     \u001b[1;31m# compile the network\u001b[0m\u001b[1;33m\u001b[0m\u001b[1;33m\u001b[0m\u001b[1;33m\u001b[0m\u001b[0m\n\u001b[0;32m     25\u001b[0m     \u001b[0msim\u001b[0m\u001b[1;33m.\u001b[0m\u001b[0mcompile\u001b[0m\u001b[1;33m(\u001b[0m\u001b[0moptimizer\u001b[0m\u001b[1;33m=\u001b[0m\u001b[0mtf\u001b[0m\u001b[1;33m.\u001b[0m\u001b[0moptimizers\u001b[0m\u001b[1;33m.\u001b[0m\u001b[0mAdam\u001b[0m\u001b[1;33m(\u001b[0m\u001b[1;36m1e-3\u001b[0m\u001b[1;33m)\u001b[0m\u001b[1;33m,\u001b[0m \u001b[0mloss\u001b[0m\u001b[1;33m=\u001b[0m\u001b[0mspiking_loss\u001b[0m\u001b[1;33m)\u001b[0m\u001b[1;33m\u001b[0m\u001b[1;33m\u001b[0m\u001b[0m\n",
      "\u001b[1;32m~\\AppData\\Roaming\\Python\\Python37\\site-packages\\nengo_dl\\simulator.py\u001b[0m in \u001b[0;36m__init__\u001b[1;34m(self, network, dt, seed, model, device, unroll_simulation, minibatch_size, progress_bar)\u001b[0m\n\u001b[0;32m    495\u001b[0m         \u001b[1;32mif\u001b[0m \u001b[0mnetwork\u001b[0m \u001b[1;32mis\u001b[0m \u001b[1;32mnot\u001b[0m \u001b[1;32mNone\u001b[0m\u001b[1;33m:\u001b[0m\u001b[1;33m\u001b[0m\u001b[1;33m\u001b[0m\u001b[0m\n\u001b[0;32m    496\u001b[0m             \u001b[0mp\u001b[0m \u001b[1;33m=\u001b[0m \u001b[0mProgressBar\u001b[0m\u001b[1;33m(\u001b[0m\u001b[1;34m\"Building network\"\u001b[0m\u001b[1;33m,\u001b[0m \u001b[1;34m\"Build\"\u001b[0m\u001b[1;33m)\u001b[0m\u001b[1;33m\u001b[0m\u001b[1;33m\u001b[0m\u001b[0m\n\u001b[1;32m--> 497\u001b[1;33m             \u001b[0mself\u001b[0m\u001b[1;33m.\u001b[0m\u001b[0mmodel\u001b[0m\u001b[1;33m.\u001b[0m\u001b[0mbuild\u001b[0m\u001b[1;33m(\u001b[0m\u001b[0mnetwork\u001b[0m\u001b[1;33m,\u001b[0m \u001b[0mprogress\u001b[0m\u001b[1;33m=\u001b[0m\u001b[0mp\u001b[0m\u001b[1;33m)\u001b[0m\u001b[1;33m\u001b[0m\u001b[1;33m\u001b[0m\u001b[0m\n\u001b[0m\u001b[0;32m    498\u001b[0m \u001b[1;33m\u001b[0m\u001b[0m\n\u001b[0;32m    499\u001b[0m         \u001b[0mnengo_rc\u001b[0m\u001b[1;33m.\u001b[0m\u001b[0mset\u001b[0m\u001b[1;33m(\u001b[0m\u001b[1;34m\"precision\"\u001b[0m\u001b[1;33m,\u001b[0m \u001b[1;34m\"bits\"\u001b[0m\u001b[1;33m,\u001b[0m \u001b[0mnengo_precision\u001b[0m\u001b[1;33m)\u001b[0m\u001b[1;33m\u001b[0m\u001b[1;33m\u001b[0m\u001b[0m\n",
      "\u001b[1;32m~\\anaconda3\\envs\\nengo\\lib\\site-packages\\nengo\\builder\\builder.py\u001b[0m in \u001b[0;36mbuild\u001b[1;34m(self, obj, *args, **kwargs)\u001b[0m\n\u001b[0;32m    132\u001b[0m             \u001b[0mThe\u001b[0m \u001b[0mobject\u001b[0m \u001b[0mto\u001b[0m \u001b[0mbuild\u001b[0m \u001b[0minto\u001b[0m \u001b[0mthis\u001b[0m \u001b[0mmodel\u001b[0m\u001b[1;33m.\u001b[0m\u001b[1;33m\u001b[0m\u001b[1;33m\u001b[0m\u001b[0m\n\u001b[0;32m    133\u001b[0m         \"\"\"\n\u001b[1;32m--> 134\u001b[1;33m         \u001b[0mbuilt\u001b[0m \u001b[1;33m=\u001b[0m \u001b[0mself\u001b[0m\u001b[1;33m.\u001b[0m\u001b[0mbuilder\u001b[0m\u001b[1;33m.\u001b[0m\u001b[0mbuild\u001b[0m\u001b[1;33m(\u001b[0m\u001b[0mself\u001b[0m\u001b[1;33m,\u001b[0m \u001b[0mobj\u001b[0m\u001b[1;33m,\u001b[0m \u001b[1;33m*\u001b[0m\u001b[0margs\u001b[0m\u001b[1;33m,\u001b[0m \u001b[1;33m**\u001b[0m\u001b[0mkwargs\u001b[0m\u001b[1;33m)\u001b[0m\u001b[1;33m\u001b[0m\u001b[1;33m\u001b[0m\u001b[0m\n\u001b[0m\u001b[0;32m    135\u001b[0m         \u001b[1;32mif\u001b[0m \u001b[0mself\u001b[0m\u001b[1;33m.\u001b[0m\u001b[0mbuild_callback\u001b[0m \u001b[1;32mis\u001b[0m \u001b[1;32mnot\u001b[0m \u001b[1;32mNone\u001b[0m\u001b[1;33m:\u001b[0m\u001b[1;33m\u001b[0m\u001b[1;33m\u001b[0m\u001b[0m\n\u001b[0;32m    136\u001b[0m             \u001b[0mself\u001b[0m\u001b[1;33m.\u001b[0m\u001b[0mbuild_callback\u001b[0m\u001b[1;33m(\u001b[0m\u001b[0mobj\u001b[0m\u001b[1;33m)\u001b[0m  \u001b[1;31m# pylint: disable=not-callable\u001b[0m\u001b[1;33m\u001b[0m\u001b[1;33m\u001b[0m\u001b[0m\n",
      "\u001b[1;32m~\\AppData\\Roaming\\Python\\Python37\\site-packages\\nengo_dl\\builder.py\u001b[0m in \u001b[0;36mbuild\u001b[1;34m(cls, model, obj, *args, **kwargs)\u001b[0m\n\u001b[0;32m    329\u001b[0m             \u001b[1;31m# fallback on normal nengo builder\u001b[0m\u001b[1;33m\u001b[0m\u001b[1;33m\u001b[0m\u001b[1;33m\u001b[0m\u001b[0m\n\u001b[0;32m    330\u001b[0m             return builder.Builder.build.__func__(\n\u001b[1;32m--> 331\u001b[1;33m                 \u001b[0mbuilder\u001b[0m\u001b[1;33m.\u001b[0m\u001b[0mBuilder\u001b[0m\u001b[1;33m,\u001b[0m \u001b[0mmodel\u001b[0m\u001b[1;33m,\u001b[0m \u001b[0mobj\u001b[0m\u001b[1;33m,\u001b[0m \u001b[1;33m*\u001b[0m\u001b[0margs\u001b[0m\u001b[1;33m,\u001b[0m \u001b[1;33m**\u001b[0m\u001b[0mkwargs\u001b[0m\u001b[1;33m\u001b[0m\u001b[1;33m\u001b[0m\u001b[0m\n\u001b[0m\u001b[0;32m    332\u001b[0m             )\n\u001b[0;32m    333\u001b[0m \u001b[1;33m\u001b[0m\u001b[0m\n",
      "\u001b[1;32m~\\anaconda3\\envs\\nengo\\lib\\site-packages\\nengo\\builder\\builder.py\u001b[0m in \u001b[0;36mbuild\u001b[1;34m(cls, model, obj, *args, **kwargs)\u001b[0m\n\u001b[0;32m    237\u001b[0m         \u001b[1;32mfor\u001b[0m \u001b[0mobj_cls\u001b[0m \u001b[1;32min\u001b[0m \u001b[0mtype\u001b[0m\u001b[1;33m(\u001b[0m\u001b[0mobj\u001b[0m\u001b[1;33m)\u001b[0m\u001b[1;33m.\u001b[0m\u001b[0m__mro__\u001b[0m\u001b[1;33m:\u001b[0m\u001b[1;33m\u001b[0m\u001b[1;33m\u001b[0m\u001b[0m\n\u001b[0;32m    238\u001b[0m             \u001b[1;32mif\u001b[0m \u001b[0mobj_cls\u001b[0m \u001b[1;32min\u001b[0m \u001b[0mcls\u001b[0m\u001b[1;33m.\u001b[0m\u001b[0mbuilders\u001b[0m\u001b[1;33m:\u001b[0m\u001b[1;33m\u001b[0m\u001b[1;33m\u001b[0m\u001b[0m\n\u001b[1;32m--> 239\u001b[1;33m                 \u001b[1;32mreturn\u001b[0m \u001b[0mcls\u001b[0m\u001b[1;33m.\u001b[0m\u001b[0mbuilders\u001b[0m\u001b[1;33m[\u001b[0m\u001b[0mobj_cls\u001b[0m\u001b[1;33m]\u001b[0m\u001b[1;33m(\u001b[0m\u001b[0mmodel\u001b[0m\u001b[1;33m,\u001b[0m \u001b[0mobj\u001b[0m\u001b[1;33m,\u001b[0m \u001b[1;33m*\u001b[0m\u001b[0margs\u001b[0m\u001b[1;33m,\u001b[0m \u001b[1;33m**\u001b[0m\u001b[0mkwargs\u001b[0m\u001b[1;33m)\u001b[0m\u001b[1;33m\u001b[0m\u001b[1;33m\u001b[0m\u001b[0m\n\u001b[0m\u001b[0;32m    240\u001b[0m \u001b[1;33m\u001b[0m\u001b[0m\n\u001b[0;32m    241\u001b[0m         \u001b[1;32mraise\u001b[0m \u001b[0mBuildError\u001b[0m\u001b[1;33m(\u001b[0m\u001b[1;34mf\"Cannot build object of type '{type(obj).__name__}'\"\u001b[0m\u001b[1;33m)\u001b[0m\u001b[1;33m\u001b[0m\u001b[1;33m\u001b[0m\u001b[0m\n",
      "\u001b[1;32m~\\anaconda3\\envs\\nengo\\lib\\site-packages\\nengo\\builder\\network.py\u001b[0m in \u001b[0;36mbuild_network\u001b[1;34m(model, network, progress)\u001b[0m\n\u001b[0;32m     92\u001b[0m             \u001b[1;31m# TODO: Except perhaps if the connection being learned\u001b[0m\u001b[1;33m\u001b[0m\u001b[1;33m\u001b[0m\u001b[1;33m\u001b[0m\u001b[0m\n\u001b[0;32m     93\u001b[0m             \u001b[1;31m# is in a subnetwork?\u001b[0m\u001b[1;33m\u001b[0m\u001b[1;33m\u001b[0m\u001b[1;33m\u001b[0m\u001b[0m\n\u001b[1;32m---> 94\u001b[1;33m             \u001b[0mmodel\u001b[0m\u001b[1;33m.\u001b[0m\u001b[0mbuild\u001b[0m\u001b[1;33m(\u001b[0m\u001b[0mconn\u001b[0m\u001b[1;33m)\u001b[0m\u001b[1;33m\u001b[0m\u001b[1;33m\u001b[0m\u001b[0m\n\u001b[0m\u001b[0;32m     95\u001b[0m \u001b[1;33m\u001b[0m\u001b[0m\n\u001b[0;32m     96\u001b[0m         \u001b[0mlogger\u001b[0m\u001b[1;33m.\u001b[0m\u001b[0mdebug\u001b[0m\u001b[1;33m(\u001b[0m\u001b[1;34m\"Network step 4: Building probes\"\u001b[0m\u001b[1;33m)\u001b[0m\u001b[1;33m\u001b[0m\u001b[1;33m\u001b[0m\u001b[0m\n",
      "\u001b[1;32m~\\anaconda3\\envs\\nengo\\lib\\site-packages\\nengo\\builder\\builder.py\u001b[0m in \u001b[0;36mbuild\u001b[1;34m(self, obj, *args, **kwargs)\u001b[0m\n\u001b[0;32m    132\u001b[0m             \u001b[0mThe\u001b[0m \u001b[0mobject\u001b[0m \u001b[0mto\u001b[0m \u001b[0mbuild\u001b[0m \u001b[0minto\u001b[0m \u001b[0mthis\u001b[0m \u001b[0mmodel\u001b[0m\u001b[1;33m.\u001b[0m\u001b[1;33m\u001b[0m\u001b[1;33m\u001b[0m\u001b[0m\n\u001b[0;32m    133\u001b[0m         \"\"\"\n\u001b[1;32m--> 134\u001b[1;33m         \u001b[0mbuilt\u001b[0m \u001b[1;33m=\u001b[0m \u001b[0mself\u001b[0m\u001b[1;33m.\u001b[0m\u001b[0mbuilder\u001b[0m\u001b[1;33m.\u001b[0m\u001b[0mbuild\u001b[0m\u001b[1;33m(\u001b[0m\u001b[0mself\u001b[0m\u001b[1;33m,\u001b[0m \u001b[0mobj\u001b[0m\u001b[1;33m,\u001b[0m \u001b[1;33m*\u001b[0m\u001b[0margs\u001b[0m\u001b[1;33m,\u001b[0m \u001b[1;33m**\u001b[0m\u001b[0mkwargs\u001b[0m\u001b[1;33m)\u001b[0m\u001b[1;33m\u001b[0m\u001b[1;33m\u001b[0m\u001b[0m\n\u001b[0m\u001b[0;32m    135\u001b[0m         \u001b[1;32mif\u001b[0m \u001b[0mself\u001b[0m\u001b[1;33m.\u001b[0m\u001b[0mbuild_callback\u001b[0m \u001b[1;32mis\u001b[0m \u001b[1;32mnot\u001b[0m \u001b[1;32mNone\u001b[0m\u001b[1;33m:\u001b[0m\u001b[1;33m\u001b[0m\u001b[1;33m\u001b[0m\u001b[0m\n\u001b[0;32m    136\u001b[0m             \u001b[0mself\u001b[0m\u001b[1;33m.\u001b[0m\u001b[0mbuild_callback\u001b[0m\u001b[1;33m(\u001b[0m\u001b[0mobj\u001b[0m\u001b[1;33m)\u001b[0m  \u001b[1;31m# pylint: disable=not-callable\u001b[0m\u001b[1;33m\u001b[0m\u001b[1;33m\u001b[0m\u001b[0m\n",
      "\u001b[1;32m~\\AppData\\Roaming\\Python\\Python37\\site-packages\\nengo_dl\\builder.py\u001b[0m in \u001b[0;36mbuild\u001b[1;34m(cls, model, obj, *args, **kwargs)\u001b[0m\n\u001b[0;32m    329\u001b[0m             \u001b[1;31m# fallback on normal nengo builder\u001b[0m\u001b[1;33m\u001b[0m\u001b[1;33m\u001b[0m\u001b[1;33m\u001b[0m\u001b[0m\n\u001b[0;32m    330\u001b[0m             return builder.Builder.build.__func__(\n\u001b[1;32m--> 331\u001b[1;33m                 \u001b[0mbuilder\u001b[0m\u001b[1;33m.\u001b[0m\u001b[0mBuilder\u001b[0m\u001b[1;33m,\u001b[0m \u001b[0mmodel\u001b[0m\u001b[1;33m,\u001b[0m \u001b[0mobj\u001b[0m\u001b[1;33m,\u001b[0m \u001b[1;33m*\u001b[0m\u001b[0margs\u001b[0m\u001b[1;33m,\u001b[0m \u001b[1;33m**\u001b[0m\u001b[0mkwargs\u001b[0m\u001b[1;33m\u001b[0m\u001b[1;33m\u001b[0m\u001b[0m\n\u001b[0m\u001b[0;32m    332\u001b[0m             )\n\u001b[0;32m    333\u001b[0m \u001b[1;33m\u001b[0m\u001b[0m\n",
      "\u001b[1;32m~\\anaconda3\\envs\\nengo\\lib\\site-packages\\nengo\\builder\\builder.py\u001b[0m in \u001b[0;36mbuild\u001b[1;34m(cls, model, obj, *args, **kwargs)\u001b[0m\n\u001b[0;32m    237\u001b[0m         \u001b[1;32mfor\u001b[0m \u001b[0mobj_cls\u001b[0m \u001b[1;32min\u001b[0m \u001b[0mtype\u001b[0m\u001b[1;33m(\u001b[0m\u001b[0mobj\u001b[0m\u001b[1;33m)\u001b[0m\u001b[1;33m.\u001b[0m\u001b[0m__mro__\u001b[0m\u001b[1;33m:\u001b[0m\u001b[1;33m\u001b[0m\u001b[1;33m\u001b[0m\u001b[0m\n\u001b[0;32m    238\u001b[0m             \u001b[1;32mif\u001b[0m \u001b[0mobj_cls\u001b[0m \u001b[1;32min\u001b[0m \u001b[0mcls\u001b[0m\u001b[1;33m.\u001b[0m\u001b[0mbuilders\u001b[0m\u001b[1;33m:\u001b[0m\u001b[1;33m\u001b[0m\u001b[1;33m\u001b[0m\u001b[0m\n\u001b[1;32m--> 239\u001b[1;33m                 \u001b[1;32mreturn\u001b[0m \u001b[0mcls\u001b[0m\u001b[1;33m.\u001b[0m\u001b[0mbuilders\u001b[0m\u001b[1;33m[\u001b[0m\u001b[0mobj_cls\u001b[0m\u001b[1;33m]\u001b[0m\u001b[1;33m(\u001b[0m\u001b[0mmodel\u001b[0m\u001b[1;33m,\u001b[0m \u001b[0mobj\u001b[0m\u001b[1;33m,\u001b[0m \u001b[1;33m*\u001b[0m\u001b[0margs\u001b[0m\u001b[1;33m,\u001b[0m \u001b[1;33m**\u001b[0m\u001b[0mkwargs\u001b[0m\u001b[1;33m)\u001b[0m\u001b[1;33m\u001b[0m\u001b[1;33m\u001b[0m\u001b[0m\n\u001b[0m\u001b[0;32m    240\u001b[0m \u001b[1;33m\u001b[0m\u001b[0m\n\u001b[0;32m    241\u001b[0m         \u001b[1;32mraise\u001b[0m \u001b[0mBuildError\u001b[0m\u001b[1;33m(\u001b[0m\u001b[1;34mf\"Cannot build object of type '{type(obj).__name__}'\"\u001b[0m\u001b[1;33m)\u001b[0m\u001b[1;33m\u001b[0m\u001b[1;33m\u001b[0m\u001b[0m\n",
      "\u001b[1;32m~\\anaconda3\\envs\\nengo\\lib\\site-packages\\nengo\\builder\\connection.py\u001b[0m in \u001b[0;36mbuild_connection\u001b[1;34m(model, conn)\u001b[0m\n\u001b[0;32m    268\u001b[0m             \u001b[0mmodel\u001b[0m\u001b[1;33m.\u001b[0m\u001b[0madd_op\u001b[0m\u001b[1;33m(\u001b[0m\u001b[0mSimPyFunc\u001b[0m\u001b[1;33m(\u001b[0m\u001b[0min_signal\u001b[0m\u001b[1;33m,\u001b[0m \u001b[0mconn\u001b[0m\u001b[1;33m.\u001b[0m\u001b[0mfunction\u001b[0m\u001b[1;33m,\u001b[0m \u001b[1;32mNone\u001b[0m\u001b[1;33m,\u001b[0m \u001b[0msliced_in\u001b[0m\u001b[1;33m)\u001b[0m\u001b[1;33m)\u001b[0m\u001b[1;33m\u001b[0m\u001b[1;33m\u001b[0m\u001b[0m\n\u001b[0;32m    269\u001b[0m     \u001b[1;32melif\u001b[0m \u001b[0misinstance\u001b[0m\u001b[1;33m(\u001b[0m\u001b[0mconn\u001b[0m\u001b[1;33m.\u001b[0m\u001b[0mpre_obj\u001b[0m\u001b[1;33m,\u001b[0m \u001b[0mEnsemble\u001b[0m\u001b[1;33m)\u001b[0m\u001b[1;33m:\u001b[0m  \u001b[1;31m# Normal decoded connection\u001b[0m\u001b[1;33m\u001b[0m\u001b[1;33m\u001b[0m\u001b[0m\n\u001b[1;32m--> 270\u001b[1;33m         \u001b[0meval_points\u001b[0m\u001b[1;33m,\u001b[0m \u001b[0mdecoders\u001b[0m\u001b[1;33m,\u001b[0m \u001b[0msolver_info\u001b[0m \u001b[1;33m=\u001b[0m \u001b[0mmodel\u001b[0m\u001b[1;33m.\u001b[0m\u001b[0mbuild\u001b[0m\u001b[1;33m(\u001b[0m\u001b[0mconn\u001b[0m\u001b[1;33m.\u001b[0m\u001b[0msolver\u001b[0m\u001b[1;33m,\u001b[0m \u001b[0mconn\u001b[0m\u001b[1;33m,\u001b[0m \u001b[0mrng\u001b[0m\u001b[1;33m)\u001b[0m\u001b[1;33m\u001b[0m\u001b[1;33m\u001b[0m\u001b[0m\n\u001b[0m\u001b[0;32m    271\u001b[0m         \u001b[1;32mif\u001b[0m \u001b[0misinstance\u001b[0m\u001b[1;33m(\u001b[0m\u001b[0mconn\u001b[0m\u001b[1;33m.\u001b[0m\u001b[0mpost_obj\u001b[0m\u001b[1;33m,\u001b[0m \u001b[0mEnsemble\u001b[0m\u001b[1;33m)\u001b[0m \u001b[1;32mand\u001b[0m \u001b[0mconn\u001b[0m\u001b[1;33m.\u001b[0m\u001b[0msolver\u001b[0m\u001b[1;33m.\u001b[0m\u001b[0mweights\u001b[0m\u001b[1;33m:\u001b[0m\u001b[1;33m\u001b[0m\u001b[1;33m\u001b[0m\u001b[0m\n\u001b[0;32m    272\u001b[0m             \u001b[0mmodel\u001b[0m\u001b[1;33m.\u001b[0m\u001b[0msig\u001b[0m\u001b[1;33m[\u001b[0m\u001b[0mconn\u001b[0m\u001b[1;33m]\u001b[0m\u001b[1;33m[\u001b[0m\u001b[1;34m\"out\"\u001b[0m\u001b[1;33m]\u001b[0m \u001b[1;33m=\u001b[0m \u001b[0mmodel\u001b[0m\u001b[1;33m.\u001b[0m\u001b[0msig\u001b[0m\u001b[1;33m[\u001b[0m\u001b[0mconn\u001b[0m\u001b[1;33m.\u001b[0m\u001b[0mpost_obj\u001b[0m\u001b[1;33m.\u001b[0m\u001b[0mneurons\u001b[0m\u001b[1;33m]\u001b[0m\u001b[1;33m[\u001b[0m\u001b[1;34m\"in\"\u001b[0m\u001b[1;33m]\u001b[0m\u001b[1;33m\u001b[0m\u001b[1;33m\u001b[0m\u001b[0m\n",
      "\u001b[1;32m~\\anaconda3\\envs\\nengo\\lib\\site-packages\\nengo\\builder\\builder.py\u001b[0m in \u001b[0;36mbuild\u001b[1;34m(self, obj, *args, **kwargs)\u001b[0m\n\u001b[0;32m    132\u001b[0m             \u001b[0mThe\u001b[0m \u001b[0mobject\u001b[0m \u001b[0mto\u001b[0m \u001b[0mbuild\u001b[0m \u001b[0minto\u001b[0m \u001b[0mthis\u001b[0m \u001b[0mmodel\u001b[0m\u001b[1;33m.\u001b[0m\u001b[1;33m\u001b[0m\u001b[1;33m\u001b[0m\u001b[0m\n\u001b[0;32m    133\u001b[0m         \"\"\"\n\u001b[1;32m--> 134\u001b[1;33m         \u001b[0mbuilt\u001b[0m \u001b[1;33m=\u001b[0m \u001b[0mself\u001b[0m\u001b[1;33m.\u001b[0m\u001b[0mbuilder\u001b[0m\u001b[1;33m.\u001b[0m\u001b[0mbuild\u001b[0m\u001b[1;33m(\u001b[0m\u001b[0mself\u001b[0m\u001b[1;33m,\u001b[0m \u001b[0mobj\u001b[0m\u001b[1;33m,\u001b[0m \u001b[1;33m*\u001b[0m\u001b[0margs\u001b[0m\u001b[1;33m,\u001b[0m \u001b[1;33m**\u001b[0m\u001b[0mkwargs\u001b[0m\u001b[1;33m)\u001b[0m\u001b[1;33m\u001b[0m\u001b[1;33m\u001b[0m\u001b[0m\n\u001b[0m\u001b[0;32m    135\u001b[0m         \u001b[1;32mif\u001b[0m \u001b[0mself\u001b[0m\u001b[1;33m.\u001b[0m\u001b[0mbuild_callback\u001b[0m \u001b[1;32mis\u001b[0m \u001b[1;32mnot\u001b[0m \u001b[1;32mNone\u001b[0m\u001b[1;33m:\u001b[0m\u001b[1;33m\u001b[0m\u001b[1;33m\u001b[0m\u001b[0m\n\u001b[0;32m    136\u001b[0m             \u001b[0mself\u001b[0m\u001b[1;33m.\u001b[0m\u001b[0mbuild_callback\u001b[0m\u001b[1;33m(\u001b[0m\u001b[0mobj\u001b[0m\u001b[1;33m)\u001b[0m  \u001b[1;31m# pylint: disable=not-callable\u001b[0m\u001b[1;33m\u001b[0m\u001b[1;33m\u001b[0m\u001b[0m\n",
      "\u001b[1;32m~\\AppData\\Roaming\\Python\\Python37\\site-packages\\nengo_dl\\builder.py\u001b[0m in \u001b[0;36mbuild\u001b[1;34m(cls, model, obj, *args, **kwargs)\u001b[0m\n\u001b[0;32m    329\u001b[0m             \u001b[1;31m# fallback on normal nengo builder\u001b[0m\u001b[1;33m\u001b[0m\u001b[1;33m\u001b[0m\u001b[1;33m\u001b[0m\u001b[0m\n\u001b[0;32m    330\u001b[0m             return builder.Builder.build.__func__(\n\u001b[1;32m--> 331\u001b[1;33m                 \u001b[0mbuilder\u001b[0m\u001b[1;33m.\u001b[0m\u001b[0mBuilder\u001b[0m\u001b[1;33m,\u001b[0m \u001b[0mmodel\u001b[0m\u001b[1;33m,\u001b[0m \u001b[0mobj\u001b[0m\u001b[1;33m,\u001b[0m \u001b[1;33m*\u001b[0m\u001b[0margs\u001b[0m\u001b[1;33m,\u001b[0m \u001b[1;33m**\u001b[0m\u001b[0mkwargs\u001b[0m\u001b[1;33m\u001b[0m\u001b[1;33m\u001b[0m\u001b[0m\n\u001b[0m\u001b[0;32m    332\u001b[0m             )\n\u001b[0;32m    333\u001b[0m \u001b[1;33m\u001b[0m\u001b[0m\n",
      "\u001b[1;32m~\\anaconda3\\envs\\nengo\\lib\\site-packages\\nengo\\builder\\builder.py\u001b[0m in \u001b[0;36mbuild\u001b[1;34m(cls, model, obj, *args, **kwargs)\u001b[0m\n\u001b[0;32m    237\u001b[0m         \u001b[1;32mfor\u001b[0m \u001b[0mobj_cls\u001b[0m \u001b[1;32min\u001b[0m \u001b[0mtype\u001b[0m\u001b[1;33m(\u001b[0m\u001b[0mobj\u001b[0m\u001b[1;33m)\u001b[0m\u001b[1;33m.\u001b[0m\u001b[0m__mro__\u001b[0m\u001b[1;33m:\u001b[0m\u001b[1;33m\u001b[0m\u001b[1;33m\u001b[0m\u001b[0m\n\u001b[0;32m    238\u001b[0m             \u001b[1;32mif\u001b[0m \u001b[0mobj_cls\u001b[0m \u001b[1;32min\u001b[0m \u001b[0mcls\u001b[0m\u001b[1;33m.\u001b[0m\u001b[0mbuilders\u001b[0m\u001b[1;33m:\u001b[0m\u001b[1;33m\u001b[0m\u001b[1;33m\u001b[0m\u001b[0m\n\u001b[1;32m--> 239\u001b[1;33m                 \u001b[1;32mreturn\u001b[0m \u001b[0mcls\u001b[0m\u001b[1;33m.\u001b[0m\u001b[0mbuilders\u001b[0m\u001b[1;33m[\u001b[0m\u001b[0mobj_cls\u001b[0m\u001b[1;33m]\u001b[0m\u001b[1;33m(\u001b[0m\u001b[0mmodel\u001b[0m\u001b[1;33m,\u001b[0m \u001b[0mobj\u001b[0m\u001b[1;33m,\u001b[0m \u001b[1;33m*\u001b[0m\u001b[0margs\u001b[0m\u001b[1;33m,\u001b[0m \u001b[1;33m**\u001b[0m\u001b[0mkwargs\u001b[0m\u001b[1;33m)\u001b[0m\u001b[1;33m\u001b[0m\u001b[1;33m\u001b[0m\u001b[0m\n\u001b[0m\u001b[0;32m    240\u001b[0m \u001b[1;33m\u001b[0m\u001b[0m\n\u001b[0;32m    241\u001b[0m         \u001b[1;32mraise\u001b[0m \u001b[0mBuildError\u001b[0m\u001b[1;33m(\u001b[0m\u001b[1;34mf\"Cannot build object of type '{type(obj).__name__}'\"\u001b[0m\u001b[1;33m)\u001b[0m\u001b[1;33m\u001b[0m\u001b[1;33m\u001b[0m\u001b[0m\n",
      "\u001b[1;32m~\\anaconda3\\envs\\nengo\\lib\\site-packages\\nengo\\builder\\connection.py\u001b[0m in \u001b[0;36mbuild_solver\u001b[1;34m(model, solver, conn, rng)\u001b[0m\n\u001b[0;32m    177\u001b[0m \u001b[1;32mdef\u001b[0m \u001b[0mbuild_solver\u001b[0m\u001b[1;33m(\u001b[0m\u001b[0mmodel\u001b[0m\u001b[1;33m,\u001b[0m \u001b[0msolver\u001b[0m\u001b[1;33m,\u001b[0m \u001b[0mconn\u001b[0m\u001b[1;33m,\u001b[0m \u001b[0mrng\u001b[0m\u001b[1;33m)\u001b[0m\u001b[1;33m:\u001b[0m\u001b[1;33m\u001b[0m\u001b[1;33m\u001b[0m\u001b[0m\n\u001b[0;32m    178\u001b[0m     \u001b[1;34m\"\"\"Apply decoder solver to connection.\"\"\"\u001b[0m\u001b[1;33m\u001b[0m\u001b[1;33m\u001b[0m\u001b[0m\n\u001b[1;32m--> 179\u001b[1;33m     \u001b[1;32mreturn\u001b[0m \u001b[0mbuild_decoders\u001b[0m\u001b[1;33m(\u001b[0m\u001b[0mmodel\u001b[0m\u001b[1;33m,\u001b[0m \u001b[0mconn\u001b[0m\u001b[1;33m,\u001b[0m \u001b[0mrng\u001b[0m\u001b[1;33m)\u001b[0m\u001b[1;33m\u001b[0m\u001b[1;33m\u001b[0m\u001b[0m\n\u001b[0m\u001b[0;32m    180\u001b[0m \u001b[1;33m\u001b[0m\u001b[0m\n\u001b[0;32m    181\u001b[0m \u001b[1;33m\u001b[0m\u001b[0m\n",
      "\u001b[1;32m~\\anaconda3\\envs\\nengo\\lib\\site-packages\\nengo\\builder\\connection.py\u001b[0m in \u001b[0;36mbuild_decoders\u001b[1;34m(model, conn, rng)\u001b[0m\n\u001b[0;32m    139\u001b[0m         \u001b[1;32melse\u001b[0m \u001b[0msolve_for_decoders\u001b[0m\u001b[1;33m\u001b[0m\u001b[1;33m\u001b[0m\u001b[0m\n\u001b[0;32m    140\u001b[0m     )\n\u001b[1;32m--> 141\u001b[1;33m     \u001b[0mdecoders\u001b[0m\u001b[1;33m,\u001b[0m \u001b[0msolver_info\u001b[0m \u001b[1;33m=\u001b[0m \u001b[0mwrapped_solver\u001b[0m\u001b[1;33m(\u001b[0m\u001b[0mconn\u001b[0m\u001b[1;33m,\u001b[0m \u001b[0mgain\u001b[0m\u001b[1;33m,\u001b[0m \u001b[0mbias\u001b[0m\u001b[1;33m,\u001b[0m \u001b[0mx\u001b[0m\u001b[1;33m,\u001b[0m \u001b[0mtargets\u001b[0m\u001b[1;33m,\u001b[0m \u001b[0mrng\u001b[0m\u001b[1;33m=\u001b[0m\u001b[0mrng\u001b[0m\u001b[1;33m)\u001b[0m\u001b[1;33m\u001b[0m\u001b[1;33m\u001b[0m\u001b[0m\n\u001b[0m\u001b[0;32m    142\u001b[0m \u001b[1;33m\u001b[0m\u001b[0m\n\u001b[0;32m    143\u001b[0m     \u001b[1;32mreturn\u001b[0m \u001b[0meval_points\u001b[0m\u001b[1;33m,\u001b[0m \u001b[0mdecoders\u001b[0m\u001b[1;33m.\u001b[0m\u001b[0mT\u001b[0m\u001b[1;33m,\u001b[0m \u001b[0msolver_info\u001b[0m\u001b[1;33m\u001b[0m\u001b[1;33m\u001b[0m\u001b[0m\n",
      "\u001b[1;32m~\\anaconda3\\envs\\nengo\\lib\\site-packages\\nengo\\builder\\connection.py\u001b[0m in \u001b[0;36msolve_for_decoders\u001b[1;34m(conn, gain, bias, x, targets, rng)\u001b[0m\n\u001b[0;32m    153\u001b[0m     \u001b[1;32mif\u001b[0m \u001b[0mnp\u001b[0m\u001b[1;33m.\u001b[0m\u001b[0mcount_nonzero\u001b[0m\u001b[1;33m(\u001b[0m\u001b[0mactivities\u001b[0m\u001b[1;33m)\u001b[0m \u001b[1;33m==\u001b[0m \u001b[1;36m0\u001b[0m\u001b[1;33m:\u001b[0m\u001b[1;33m\u001b[0m\u001b[1;33m\u001b[0m\u001b[0m\n\u001b[0;32m    154\u001b[0m         raise BuildError(\n\u001b[1;32m--> 155\u001b[1;33m             \u001b[1;34mf\"Building {conn}: 'activities' matrix is all zero for {conn.pre_obj}. \"\u001b[0m\u001b[1;33m\u001b[0m\u001b[1;33m\u001b[0m\u001b[0m\n\u001b[0m\u001b[0;32m    156\u001b[0m             \u001b[1;34m\"This is because no evaluation points fall in the firing \"\u001b[0m\u001b[1;33m\u001b[0m\u001b[1;33m\u001b[0m\u001b[0m\n\u001b[0;32m    157\u001b[0m             \u001b[1;34m\"ranges of any neurons.\"\u001b[0m\u001b[1;33m\u001b[0m\u001b[1;33m\u001b[0m\u001b[0m\n",
      "\u001b[1;31mBuildError\u001b[0m: Building <Connection from <Ensemble (unlabeled) at 0x2cefc2c7ac8> to <Neurons of <Ensemble (unlabeled) at 0x2cebc36cac8>> computing 'reparameterize'>: 'activities' matrix is all zero for <Ensemble (unlabeled) at 0x2cefc2c7ac8>. This is because no evaluation points fall in the firing ranges of any neurons."
     ]
    }
   ],
   "source": [
    "# Define the comibned loss function\n",
    "def spiking_loss(y_true, y_pred):\n",
    "    # Compute reconstruction loss using spike-timing-dependent plasticity (STDP)\n",
    "    reconstruction_loss = tf.losses.mse(y_true, y_pred)\n",
    "    \n",
    "    # Return the sum of reconstruction loss\n",
    "    #return tf.reduce_sum(y_pred)/y_pred.shape[0]\n",
    "    return reconstruction_loss\n",
    "\n",
    "# download MNIST dataset\n",
    "(train_data, _), (test_data, _) = tf.keras.datasets.mnist.load_data()\n",
    "# flatten images\n",
    "train_data = train_data.reshape((train_data.shape[0], -1)).astype('float32')/255.0\n",
    "test_data = test_data.reshape((test_data.shape[0], -1)).astype('float32')/255.0\n",
    "\n",
    "n_epochs = 1\n",
    "\n",
    "train_data = train_data[:, None, :]\n",
    "test_data = test_data[:, None, :]\n",
    "\n",
    "print(test_data.shape)\n",
    "# Simulate the Nengo network\n",
    "with nengo_dl.Simulator(model,minibatch_size=minibatch_size) as sim:\n",
    "    # compile the network\n",
    "    sim.compile(optimizer=tf.optimizers.Adam(1e-3), loss=spiking_loss)\n",
    "\n",
    "    # run training loop\n",
    "    sim.fit(train_data, train_data, epochs=n_epochs)\n",
    "\n",
    "    # evaluate performance on test set\n",
    "    sim.evaluate(test_data, test_data)\n",
    "    \n",
    "    #sim.freeze_params(model)\n",
    "    \n",
    "    # Display the example output\n",
    "    plt.figure()\n",
    "    plt.imshow(test_data[0,0,:].reshape((28,28)))\n",
    "    plt.show()\n",
    "    print(minibatch_size)\n",
    "    print(test_data[:minibatch_size].shape)\n",
    "    output = sim.predict(test_data[:minibatch_size])\n",
    "    #print(output)\n",
    "    plt.figure()\n",
    "    plt.imshow(output[p_d][0].reshape((28,28)))\n",
    "    plt.show()"
   ]
  },
  {
   "cell_type": "code",
   "execution_count": 193,
   "metadata": {},
   "outputs": [
    {
     "name": "stdout",
     "output_type": "stream",
     "text": [
      "Build finished in 0:00:03                                                      \n",
      "Optimization finished in 0:00:00                                               \n",
      "Construction finished in 0:00:00                                               \n",
      "Simulation finished in 0:00:01                                                 \n"
     ]
    },
    {
     "data": {
      "image/png": "[encoded data removed]",
      "text/plain": [
       "<Figure size 640x480 with 1 Axes>"
      ]
     },
     "metadata": {},
     "output_type": "display_data"
    },
    {
     "name": "stdout",
     "output_type": "stream",
     "text": [
      "60\n",
      "(60, 1, 784)\n",
      "1/1 [==============================] - 1s 662ms/step                         \n"
     ]
    },
    {
     "data": {
      "image/png": "[encoded data removed]",
      "text/plain": [
       "<Figure size 640x480 with 1 Axes>"
      ]
     },
     "metadata": {},
     "output_type": "display_data"
    },
    {
     "data": {
      "text/plain": [
       "Text(0.5, 1.0, 'output')"
      ]
     },
     "execution_count": 193,
     "metadata": {},
     "output_type": "execute_result"
    },
    {
     "data": {
      "image/png": "[encoded data removed]",
      "text/plain": [
       "<Figure size 640x480 with 1 Axes>"
      ]
     },
     "metadata": {},
     "output_type": "display_data"
    }
   ],
   "source": [
    "with nengo_dl.Simulator(model,minibatch_size=minibatch_size) as sim:\n",
    "    ind = tf.random.uniform(shape=(), minval=0, maxval=minibatch_size, dtype=tf.int32)\n",
    "    sim.run_steps(10)\n",
    "    # Display the example output\n",
    "    plt.figure()\n",
    "    plt.imshow(test_data[ind,0,:].reshape((28,28)))\n",
    "    plt.show()\n",
    "    print(minibatch_size)\n",
    "    print(test_data[:minibatch_size].shape)\n",
    "    output = sim.predict(test_data[:minibatch_size])\n",
    "    #print(output)\n",
    "    plt.figure()\n",
    "    plt.imshow(output[p_d][ind].reshape((28,28)))\n",
    "    plt.show()\n",
    "\n",
    "plt.figure()\n",
    "plt.plot(sim.trange(), sim.data[p_d][0])\n",
    "plt.xlabel(\"time\")\n",
    "plt.ylabel(\"input value\")\n",
    "plt.title(\"output\")"
   ]
  },
  {
   "cell_type": "markdown",
   "metadata": {
    "id": "sf9ABKqvikhv"
   },
   "source": [
    "One difference you'll note is that with Nengo we separate the creation of the layers and\n",
    "the creation of the connections between layers.  This is because the connection\n",
    "structure in Nengo networks often has a lot more state and general complexity than in\n",
    "typical deep learning networks, so it is helpful to be able to control it independently\n",
    "(we'll see examples of this later).\n",
    "\n",
    "Another new object you may notice is the `nengo.Probe`.  This is used to collect data\n",
    "from the simulation; by adding a probe to `nengo_c.neurons`, we are indicating that we\n",
    "want to collect the activities of those neurons when the simulation is running.  You can\n",
    "think of this like the `outputs` arguments in a Keras Model.\n",
    "\n",
    "We will not go into a lot of detail on Nengo here; there is much more functionality\n",
    "available, but we will focus on the features most familiar or relevant to those coming\n",
    "from a TensorFlow background.  For a more in-depth introduction to Nengo, check out the\n",
    "Nengo-specific [documentation](https://www.nengo.ai/nengo/) and\n",
    "[examples](https://www.nengo.ai/nengo/examples.html)."
   ]
  },
  {
   "cell_type": "markdown",
   "metadata": {
    "id": "Lx9Crcteikhz"
   },
   "source": [
    "## Inserting TensorFlow code\n",
    "\n",
    "The goal of NengoDL is not to replace TensorFlow or Nengo, but to allow them to smoothly\n",
    "work together.  Thus one important feature is the ability to write TensorFlow code\n",
    "directly, and insert it into a Nengo network.  This allows us to use whichever framework\n",
    "is best suited for different parts of a model.\n",
    "\n",
    "This functionality is accessed through the `nengo_dl.TensorNode` class.  This allows us\n",
    "to wrap TensorFlow code in a Nengo object, so that it can easily communicate with the\n",
    "rest of a Nengo model.  The TensorFlow code is written in a function that takes\n",
    "`tf.Tensors` as input, applies the desired manipulations through TensorFlow operations,\n",
    "and returns a `tf.Tensor`.  We then pass that function to the TensorNode.\n",
    "\n",
    "For simple cases we can use `nengo_dl.Layer`.  This is a simplified interface for\n",
    "constructing `TensorNodes` that mimics the Keras functional API.  For example, suppose\n",
    "we want to apply batch normalization to the output of one of the Nengo ensembles.  There\n",
    "is no built-in way to do batch normalization in Nengo, so we can instead turn to\n",
    "TensorFlow for this part of the model."
   ]
  },
  {
   "cell_type": "code",
   "execution_count": null,
   "metadata": {
    "id": "w1J7tbT_ikh1"
   },
   "outputs": [],
   "source": [
    "with nengo.Network() as vae_net:\n",
    "    # input\n",
    "    vae_a = nengo.Node(np.zeros(n_in,1))\n",
    "\n",
    "    # encoder layer\n",
    "    nengo_b = nengo.Ensemble(n_hidden, 1, neuron_type=nengo.RectifiedLinear())\n",
    "    nengo.Connection(nengo_a, nengo_b.neurons, transform=nengo_dl.dists.He())\n",
    "    \n",
    "    \n",
    "    \n",
    "    \n",
    "    \n",
    "    # decoder layer\n",
    "    nengo_c = nengo.Ensemble(n_in, 1, neuron_type=nengo.RectifiedLinear())\n",
    "    nengo.Connection(\n",
    "        nengo_b.neurons, nengo_c.neurons, transform=nengo_dl.dists.He()\n",
    "    )\n",
    "\n",
    "    # probes are used to collect data from the network\n",
    "    p_c = nengo.Probe(nengo_c.neurons)\n",
    "\n",
    "    a = nengo_dl.TensorNode(MyLayer(), shape_in=(1,), pass_time=False)"
   ]
  },
  {
   "cell_type": "markdown",
   "metadata": {
    "id": "zDIyNKfEikh1"
   },
   "source": [
    "More details on TensorNode usage can be found in [the user\n",
    "guide](https://www.nengo.ai/nengo-dl/tensor-node.html)."
   ]
  },
  {
   "cell_type": "markdown",
   "metadata": {
    "id": "tRekPWmwikh1"
   },
   "source": [
    "## Deep learning parameter optimization\n",
    "\n",
    "NengoDL allows model parameters to be optimized via TensorFlow optimization algorithms,\n",
    "through the `Simulator.fit` function.  Returning to the autoencoder examples from the\n",
    "beginning of this tutorial, we'll optimize those networks to encode MNIST digits."
   ]
  },
  {
   "cell_type": "code",
   "execution_count": null,
   "metadata": {
    "id": "c28EdWE3ikh1"
   },
   "outputs": [],
   "source": [
    "# download MNIST dataset\n",
    "(train_data, _), (test_data, _) = tf.keras.datasets.mnist.load_data()\n",
    "# flatten images\n",
    "train_data = train_data.reshape((train_data.shape[0], -1))\n",
    "test_data = test_data.reshape((test_data.shape[0], -1))\n",
    "\n",
    "n_epochs = 2"
   ]
  },
  {
   "cell_type": "markdown",
   "metadata": {
    "id": "tHATU-aFikh1"
   },
   "source": [
    "Before running the same training in NengoDL, we'll change the Nengo model parameters to\n",
    "more closely match the TensorFlow network (we omitted these details in the original\n",
    "presentation to keep things simple)."
   ]
  },
  {
   "cell_type": "code",
   "execution_count": null,
   "metadata": {
    "id": "BG2co-Qaikh2"
   },
   "outputs": [],
   "source": [
    "# set initial neuron gains to 1 and biases to 0\n",
    "for ens in auto_net.all_ensembles:\n",
    "    ens.gain = nengo.dists.Choice([1])\n",
    "    ens.bias = nengo.dists.Choice([0])\n",
    "\n",
    "# disable synaptic filtering on all connections\n",
    "for conn in auto_net.all_connections:\n",
    "    conn.synapse = None"
   ]
  },
  {
   "cell_type": "markdown",
   "metadata": {
    "id": "2kZ_m5MGikh2"
   },
   "source": [
    "We also need to modify the data slightly.  As mentioned above, NengoDL simulations are\n",
    "essentially temporal, so data is described over time (indicating what the inputs/targets\n",
    "should be on each simulation timestep).  So instead of the data having shape\n",
    "`(batch_size, n)`, it will have shape `(batch_size, n_steps, n)`.  In this case we'll\n",
    "just be training for a single timestep, but we still need to add that extra axis with\n",
    "length 1."
   ]
  },
  {
   "cell_type": "code",
   "execution_count": null,
   "metadata": {
    "id": "ASYzCA1Kikh2"
   },
   "outputs": [],
   "source": [
    "train_data = train_data[:, None, :]\n",
    "test_data = test_data[:, None, :]"
   ]
  },
  {
   "cell_type": "markdown",
   "metadata": {
    "id": "euh0alvfikh2"
   },
   "source": [
    "Now we can run the NengoDL equivalent of the above TensorFlow training (note: the\n",
    "results will not match exactly due to different random initializations):"
   ]
  },
  {
   "cell_type": "code",
   "execution_count": null,
   "metadata": {
    "id": "hbu5BMgJikh2"
   },
   "outputs": [],
   "source": [
    "with nengo_dl.Simulator(auto_net, minibatch_size=minibatch_size) as sim:\n",
    "    sim.compile(optimizer=tf.optimizers.RMSprop(1e-3), loss=tf.losses.mse)\n",
    "\n",
    "    # run training loop\n",
    "    sim.fit(train_data, train_data, epochs=n_epochs)\n",
    "\n",
    "    # evaluate performance on test set\n",
    "    sim.evaluate(test_data, test_data)\n",
    "\n",
    "    # display example output\n",
    "    plt.figure()\n",
    "    plt.imshow(test_data[0,0,:].reshape((28, 28)))\n",
    "    plt.show()\n",
    "    output = sim.predict(test_data[:minibatch_size])\n",
    "    plt.figure()\n",
    "    plt.imshow(output[p_c][0].reshape((28, 28)))\n",
    "    plt.show()"
   ]
  },
  {
   "cell_type": "code",
   "execution_count": null,
   "metadata": {},
   "outputs": [],
   "source": [
    "print(p_c)\n",
    "print(output)"
   ]
  },
  {
   "cell_type": "code",
   "execution_count": null,
   "metadata": {},
   "outputs": [],
   "source": []
  },
  {
   "cell_type": "code",
   "execution_count": null,
   "metadata": {},
   "outputs": [],
   "source": [
    "with nengo.Network(seed=0) as net:\n",
    "    # set some default parameters for the neurons that will make\n",
    "    # the training progress more smoothly\n",
    "    net.config[nengo.Ensemble].max_rates = nengo.dists.Choice([100])\n",
    "    net.config[nengo.Ensemble].intercepts = nengo.dists.Choice([0])\n",
    "    net.config[nengo.Connection].synapse = None\n",
    "    neuron_type = nengo.LIF(amplitude=0.01)\n",
    "\n",
    "    # this is an optimization to improve the training speed,\n",
    "    # since we won't require stateful behaviour in this example\n",
    "    nengo_dl.configure_settings(stateful=False)\n",
    "\n",
    "    # the input node that will be used to feed in input images\n",
    "    inp = nengo.Node(np.zeros(28 * 28))\n",
    "\n",
    "    # add the first convolutional layer\n",
    "    x = nengo_dl.Layer(tf.keras.layers.Conv2D(filters=32, kernel_size=3))(\n",
    "        inp, shape_in=(28, 28, 1)\n",
    "    )\n",
    "    x = nengo_dl.Layer(neuron_type)(x)\n",
    "\n",
    "    # add the second convolutional layer\n",
    "    x = nengo_dl.Layer(tf.keras.layers.Conv2D(filters=64, strides=2, kernel_size=3))(\n",
    "        x, shape_in=(26, 26, 32)\n",
    "    )\n",
    "    x = nengo_dl.Layer(neuron_type)(x)\n",
    "\n",
    "    # add the third convolutional layer\n",
    "    x = nengo_dl.Layer(tf.keras.layers.Conv2D(filters=128, strides=2, kernel_size=3))(\n",
    "        x, shape_in=(12, 12, 64)\n",
    "    )\n",
    "    x = nengo_dl.Layer(neuron_type)(x)\n",
    "\n",
    "    # linear readout\n",
    "    out = nengo_dl.Layer(tf.keras.layers.Dense(units=10))(x)\n",
    "\n",
    "    # we'll create two different output probes, one with a filter\n",
    "    # (for when we're simulating the network over time and\n",
    "    # accumulating spikes), and one without (for when we're\n",
    "    # training the network using a rate-based approximation)\n",
    "    out_p = nengo.Probe(out, label=\"out_p\")\n",
    "    out_p_filt = nengo.Probe(out, synapse=0.1, label=\"out_p_filt\")"
   ]
  },
  {
   "cell_type": "markdown",
   "metadata": {
    "id": "PzFEtKXnikh2"
   },
   "source": [
    "More details on using `sim.fit` can be found in [the user\n",
    "guide](https://www.nengo.ai/nengo-dl/simulator.html)."
   ]
  },
  {
   "cell_type": "markdown",
   "metadata": {
    "id": "wq8DjylXikiA"
   },
   "source": [
    "## Conclusion\n",
    "\n",
    "In this tutorial we have demonstrated how to translate TensorFlow concepts into NengoDL,\n",
    "including network construction, execution, and optimization.  We have also discussed how\n",
    "to use TensorNodes to combine TensorFlow and Nengo code, and introduced some of the\n",
    "unique features of Nengo (such as NEF optimization and neuromorphic cross-platform\n",
    "execution).  However, there is much more functionality in NengoDL than we are able to\n",
    "introduce here; check out the [user\n",
    "guide](https://www.nengo.ai/nengo-dl/user-guide.html) or [other\n",
    "examples](https://www.nengo.ai/nengo-dl/examples.html) for more information.  If you\n",
    "would like more information on how NengoDL is implemented under the hood using\n",
    "TensorFlow, check out the [white paper](https://arxiv.org/abs/1805.11144)."
   ]
  }
 ],
 "metadata": {
  "colab": {
   "provenance": []
  },
  "kernelspec": {
   "display_name": "Python 3 (ipykernel)",
   "language": "python",
   "name": "python3"
  },
  "language_info": {
   "codemirror_mode": {
    "name": "ipython",
    "version": 3
   },
   "file_extension": ".py",
   "mimetype": "text/x-python",
   "name": "python",
   "nbconvert_exporter": "python",
   "pygments_lexer": "ipython3",
   "version": "3.7.9"
  }
 },
 "nbformat": 4,
 "nbformat_minor": 1
}
