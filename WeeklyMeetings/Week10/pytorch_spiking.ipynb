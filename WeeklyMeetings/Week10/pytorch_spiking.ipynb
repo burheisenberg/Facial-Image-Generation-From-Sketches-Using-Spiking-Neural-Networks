{
 "cells": [
  {
   "cell_type": "code",
   "execution_count": 1,
   "id": "d818804c",
   "metadata": {},
   "outputs": [],
   "source": [
    "# pylint: disable=redefined-outer-name\n",
    "\n",
    "import matplotlib.pyplot as plt\n",
    "import numpy as np\n",
    "import torch\n",
    "import torchvision\n",
    "\n",
    "import pytorch_spiking\n",
    "\n",
    "torch.manual_seed(0)\n",
    "np.random.seed(0)"
   ]
  },
  {
   "cell_type": "code",
   "execution_count": 9,
   "id": "707bc06d",
   "metadata": {},
   "outputs": [
    {
     "name": "stdout",
     "output_type": "stream",
     "text": [
      "torch.Size([10000, 784])\n"
     ]
    }
   ],
   "source": [
    "# download MNIST dataset\n",
    "BATCH_SIZE = 256\n",
    "\n",
    "transform = torchvision.transforms.Compose(\n",
    "    [\n",
    "        torchvision.transforms.ToTensor(),\n",
    "        #torchvision.transforms.Normalize((0.1307,), (0.3081,)),\n",
    "    ]\n",
    ")\n",
    "\n",
    "train_data = torchvision.datasets.MNIST(\n",
    "    root=\".\",\n",
    "    train=True,\n",
    "    download=True,\n",
    "    transform=transform,\n",
    ")\n",
    "\n",
    "test_data = torchvision.datasets.MNIST(\n",
    "    root=\".\",\n",
    "    train=False,\n",
    "    download=True,\n",
    "    transform=transform,\n",
    "    )\n",
    "\n",
    "train_data = train_data.data\n",
    "test_data = test_data.data\n",
    "\n",
    "train_loader = torch.utils.data.DataLoader(\n",
    "    train_data, batch_size=BATCH_SIZE, shuffle=True\n",
    ")\n",
    "\n",
    "test_loader = torch.utils.data.DataLoader(\n",
    "    test_data, batch_size=BATCH_SIZE, shuffle=False\n",
    ")\n",
    "\n",
    "\n",
    "# flatten images\n",
    "train_data = train_data.reshape((train_data.shape[0], -1))/255.0\n",
    "test_data = test_data.reshape((test_data.shape[0], -1))/255.0\n",
    "\n",
    "print(test_data.shape)"
   ]
  },
  {
   "cell_type": "code",
   "execution_count": 16,
   "id": "53b33bd7",
   "metadata": {},
   "outputs": [],
   "source": [
    "def train(input_model, train_x, test_x):\n",
    "    minibatch_size = 32\n",
    "    optimizer = torch.optim.Adam(input_model.parameters())\n",
    "\n",
    "    input_model.train()\n",
    "    for j in range(10):\n",
    "        train_acc = 0\n",
    "        for i in range(train_x.shape[0] // minibatch_size):\n",
    "            input_model.zero_grad()\n",
    "\n",
    "            batch_in = train_x[i * minibatch_size : (i + 1) * minibatch_size]\n",
    "            # flatten images\n",
    "            batch_in = batch_in.reshape((-1,) + train_x.shape[1:-2] + (784,))\n",
    "            batch_label = train_labels[i * minibatch_size : (i + 1) * minibatch_size]\n",
    "            output = input_model(torch.tensor(batch_in))\n",
    "\n",
    "            # compute sparse categorical cross entropy loss\n",
    "            logp = torch.nn.functional.log_softmax(output, dim=-1)\n",
    "            logpy = torch.gather(logp, 1, torch.tensor(batch_label).view(-1, 1))\n",
    "            loss = -logpy.mean()\n",
    "\n",
    "            loss.backward()\n",
    "            optimizer.step()\n",
    "\n",
    "            train_acc += torch.mean(\n",
    "                torch.eq(torch.argmax(output, dim=1), torch.tensor(batch_label)).float()\n",
    "            )\n",
    "\n",
    "        train_acc /= train_x.shape[0] // minibatch_size + 1\n",
    "        print(f\"Train accuracy ({j}): {train_acc}\")\n",
    "\n",
    "    # compute test accuracy\n",
    "    input_model.eval()\n",
    "    test_acc = 0\n",
    "    for i in range(test_x.shape[0] // minibatch_size):\n",
    "        batch_in = test_x[i * minibatch_size : (i + 1) * minibatch_size]\n",
    "        batch_in = batch_in.reshape((-1,) + test_x.shape[1:-2] + (784,))\n",
    "        batch_label = test_labels[i * minibatch_size : (i + 1) * minibatch_size]\n",
    "        output = input_model(torch.tensor(batch_in))\n",
    "\n",
    "        test_acc += torch.mean(\n",
    "            torch.eq(torch.argmax(output, dim=1), torch.tensor(batch_label)).float()\n",
    "        )\n",
    "\n",
    "    test_acc /= train_x.shape[0] // minibatch_size + 1\n",
    "\n",
    "    print(f\"Test accuracy: {test_acc}\")\n"
   ]
  },
  {
   "cell_type": "code",
   "execution_count": 17,
   "id": "6382c54d",
   "metadata": {},
   "outputs": [
    {
     "name": "stdout",
     "output_type": "stream",
     "text": [
      "Train accuracy (0): 0.0\n",
      "Train accuracy (1): 0.0\n",
      "Train accuracy (2): 0.0\n",
      "Train accuracy (3): 0.0\n",
      "Train accuracy (4): 0.0\n",
      "Train accuracy (5): 0.0\n",
      "Train accuracy (6): 0.0\n",
      "Train accuracy (7): 0.0\n",
      "Train accuracy (8): 0.0\n",
      "Train accuracy (9): 0.0\n",
      "Test accuracy: 0.0\n"
     ]
    }
   ],
   "source": [
    "# repeat the images for n_steps\n",
    "n_steps = 10\n",
    "train_sequences = np.tile(train_data[:, None], (1, n_steps, 1, 1))\n",
    "test_sequences = np.tile(test_data[:, None], (1, n_steps, 1, 1))\n",
    "\n",
    "spiking_model = torch.nn.Sequential(\n",
    "    torch.nn.Linear(784, 128),\n",
    "    # wrap ReLU in SpikingActivation\n",
    "    pytorch_spiking.SpikingActivation(torch.nn.ReLU(), spiking_aware_training=False),\n",
    "    # use average pooling layer to average spiking output over time\n",
    "    pytorch_spiking.TemporalAvgPool(),\n",
    "    torch.nn.Linear(128, 10),\n",
    ")\n",
    "\n",
    "# train the model, identically to the non-spiking version,\n",
    "# except using the time sequences as input\n",
    "train(spiking_model, train_sequences, test_sequences)"
   ]
  },
  {
   "cell_type": "code",
   "execution_count": null,
   "id": "493b52f1",
   "metadata": {},
   "outputs": [],
   "source": []
  },
  {
   "cell_type": "code",
   "execution_count": null,
   "id": "e6cd6eac",
   "metadata": {},
   "outputs": [],
   "source": []
  }
 ],
 "metadata": {
  "kernelspec": {
   "display_name": "Python 3 (ipykernel)",
   "language": "python",
   "name": "python3"
  },
  "language_info": {
   "codemirror_mode": {
    "name": "ipython",
    "version": 3
   },
   "file_extension": ".py",
   "mimetype": "text/x-python",
   "name": "python",
   "nbconvert_exporter": "python",
   "pygments_lexer": "ipython3",
   "version": "3.7.9"
  }
 },
 "nbformat": 4,
 "nbformat_minor": 5
}
