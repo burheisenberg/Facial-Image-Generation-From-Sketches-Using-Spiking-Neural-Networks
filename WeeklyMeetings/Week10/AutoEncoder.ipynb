{
 "cells": [
  {
   "cell_type": "markdown",
   "metadata": {
    "id": "3oKG2sgwikhm"
   },
   "source": [
    "# Coming from TensorFlow to NengoDL\n",
    "\n",
    "[![Open In\n",
    "Colab](https://colab.research.google.com/assets/colab-badge.svg)](https://colab.research.google.com/github/nengo/nengo-dl/blob/master/docs/examples/from-tensorflow.ipynb)\n",
    "\n",
    "NengoDL combines two frameworks: Nengo and TensorFlow.  This tutorial is designed for\n",
    "people who are familiar with TensorFlow and looking to learn more about neuromorphic\n",
    "modelling with NengoDL.  For the other approach, users familiar with Nengo looking to\n",
    "learn how to use NengoDL, check out [this\n",
    "tutorial](https://www.nengo.ai/nengo-dl/examples/from-nengo.html).\n",
    "\n",
    "If you are familiar with Keras you may also be interested in\n",
    "[KerasSpiking](https://www.nengo.ai/keras-spiking/), a companion project to NengoDL\n",
    "that has a more minimal feature set, but integrates even more transparently with the\n",
    "Keras API. See [this page](https://www.nengo.ai/keras-spiking/nengo-dl-comparison.html)\n",
    "for a more detailed comparison between the two projects."
   ]
  },
  {
   "cell_type": "code",
   "execution_count": 1,
   "metadata": {
    "colab": {
     "base_uri": "https://localhost:8080/",
     "height": 399
    },
    "id": "JWh0R7ADikhr",
    "outputId": "577d7f70-c7e7-450b-ef54-39c2df65e292"
   },
   "outputs": [],
   "source": [
    "%matplotlib inline\n",
    "\n",
    "import warnings\n",
    "\n",
    "import matplotlib.pyplot as plt\n",
    "import nengo\n",
    "from nengo.utils.matplotlib import rasterplot\n",
    "import numpy as np\n",
    "import tensorflow as tf\n",
    "from tensorflow.keras import layers, Model\n",
    "from tensorflow.keras.losses import binary_crossentropy\n",
    "\n",
    "import nengo_dl\n",
    "\n",
    "\n",
    "warnings.simplefilter(\"ignore\")\n",
    "tf.get_logger().addFilter(lambda rec: \"Tracing is expensive\" not in rec.msg)"
   ]
  },
  {
   "cell_type": "markdown",
   "metadata": {
    "id": "e47sgSArikht"
   },
   "source": [
    "## What is Nengo\n",
    "\n",
    "We'll start with the very basics, where you might be wondering what Nengo is and why you\n",
    "would want to use it.  Nengo is a tool for constructing and simulating neural networks.\n",
    "That is, to some extent, the same purpose as TensorFlow (and its higher level API,\n",
    "Keras).  For example, here is how we might build a simple two layer auto-encoder network\n",
    "in Nengo:"
   ]
  },
  {
   "cell_type": "code",
   "execution_count": 2,
   "metadata": {},
   "outputs": [],
   "source": [
    "n_in = 784\n",
    "n_hidden = 64\n",
    "minibatch_size = 50"
   ]
  },
  {
   "cell_type": "code",
   "execution_count": 3,
   "metadata": {},
   "outputs": [],
   "source": [
    "# VAE model\n",
    "class VAE(tf.keras.Model):\n",
    "    latent_dim = 20\n",
    "    def __init__(self):\n",
    "        super(VAE, self).__init__()\n",
    "        self.encoder = tf.keras.Sequential([\n",
    "            layers.Input(shape=(28, 28, 1)),\n",
    "            layers.Conv2D(32, 3, activation='relu', strides=2, padding='same'),\n",
    "            layers.Conv2D(64, 3, activation='relu', strides=2, padding='same'),\n",
    "            layers.Flatten()\n",
    "        ])\n",
    "        \n",
    "        self.bottleneck_mean = tf.keras.Sequential([\n",
    "            layers.Input(shape=(64*7*7)),\n",
    "            layers.Dense(self.latent_dim, activation='relu') # assuming 20-dimensional latent space\n",
    "        ])\n",
    "        \n",
    "        self.bottleneck_logvar = tf.keras.Sequential([\n",
    "            layers.Input(shape=(64*7*7)),\n",
    "            layers.Dense(self.latent_dim,activation='relu')\n",
    "        ])\n",
    "        \n",
    "        self.decoder = tf.keras.Sequential([\n",
    "            layers.Input(shape=(self.latent_dim,)),\n",
    "            layers.Dense(7*7*64, activation='relu'),\n",
    "            layers.Reshape((7, 7, 64)),\n",
    "            layers.UpSampling2D((2, 2)),\n",
    "            layers.Conv2D(32, 3, activation='relu', padding='same'),\n",
    "            layers.UpSampling2D((2, 2)),\n",
    "            layers.Conv2D(1, 3, activation='sigmoid', padding='same')\n",
    "        ])\n",
    "\n",
    "    def call(self, x):\n",
    "        z_mean, z_logvar = self.encode(x)\n",
    "        z = self.reparameterize(z_mean, z_logvar)\n",
    "        reconstructed = self.decoder(z)\n",
    "        return reconstructed, z_mean, z_logvar\n",
    "\n",
    "    def reparameterize(self, mean, log_var):\n",
    "        batch_size = tf.shape(mean)[0]\n",
    "        epsilon = tf.random.normal(shape=(batch_size, tf.shape(mean)[1]))\n",
    "        return mean + tf.exp(0.5 * log_var) * epsilon\n",
    "    \n",
    "    def sample(self, eps=None):\n",
    "        if eps is None:\n",
    "            eps = tf.random.normal(shape=(100, self.latent_dim))\n",
    "        return self.decode(eps, apply_sigmoid=True)\n",
    "\n",
    "    def encode(self, x):\n",
    "        x = self.encoder(x)\n",
    "        mean = self.bottleneck_mean(x)\n",
    "        logvar = self.bottleneck_logvar(x)\n",
    "        return mean, logvar\n",
    "\n",
    "    def decode(self, z, apply_sigmoid=False):\n",
    "        logits = self.decoder(z)\n",
    "        if apply_sigmoid:\n",
    "            probs = tf.sigmoid(logits)\n",
    "            return probs\n",
    "        return logits\n",
    "    # Training step\n",
    "    def train_step(self,data):\n",
    "        inputs, targets = data\n",
    "        with tf.GradientTape() as tape:\n",
    "            z_mean, z_logvar = self.encode(inputs)\n",
    "            z = self.reparameterize(z_mean,z_logvar)\n",
    "            reconstructed = self.decode(z)\n",
    "            reconstruction_loss = tf.reduce_sum(binary_crossentropy(targets, reconstructed)*28*28, axis=[1,2])\n",
    "            kl_loss = -0.5*tf.reduce_sum(1 + z_logvar - tf.square(z_mean) - tf.exp(z_logvar), axis=-1)\n",
    "            loss = tf.reduce_mean(reconstruction_loss + kl_loss)\n",
    "        gradients = tape.gradient(loss, self.trainable_variables)\n",
    "        self.optimizer.apply_gradients(zip(gradients, self.trainable_variables))\n",
    "        # Log the loss\n",
    "        loss_dict = {'loss': loss}\n",
    "        return loss_dict"
   ]
  },
  {
   "cell_type": "code",
   "execution_count": 12,
   "metadata": {},
   "outputs": [
    {
     "ename": "TypeError",
     "evalue": "list indices must be integers or slices, not NoneType",
     "output_type": "error",
     "traceback": [
      "\u001b[1;31m---------------------------------------------------------------------------\u001b[0m",
      "\u001b[1;31mTypeError\u001b[0m                                 Traceback (most recent call last)",
      "\u001b[1;32m~\\AppData\\Local\\Temp\\ipykernel_11828\\3781759133.py\u001b[0m in \u001b[0;36m<module>\u001b[1;34m\u001b[0m\n\u001b[0;32m      1\u001b[0m \u001b[0mmodel\u001b[0m \u001b[1;33m=\u001b[0m \u001b[0mVAE\u001b[0m\u001b[1;33m(\u001b[0m\u001b[1;33m)\u001b[0m\u001b[1;33m\u001b[0m\u001b[1;33m\u001b[0m\u001b[0m\n\u001b[1;32m----> 2\u001b[1;33m \u001b[0mconverter\u001b[0m \u001b[1;33m=\u001b[0m \u001b[0mnengo_dl\u001b[0m\u001b[1;33m.\u001b[0m\u001b[0mConverter\u001b[0m\u001b[1;33m(\u001b[0m\u001b[0mmodel\u001b[0m\u001b[1;33m)\u001b[0m\u001b[1;33m\u001b[0m\u001b[1;33m\u001b[0m\u001b[0m\n\u001b[0m",
      "\u001b[1;32m~\\AppData\\Roaming\\Python\\Python37\\site-packages\\nengo_dl\\converter.py\u001b[0m in \u001b[0;36m__init__\u001b[1;34m(self, model, allow_fallback, inference_only, max_to_avg_pool, split_shared_weights, swap_activations, scale_firing_rates, synapse, temporal_model)\u001b[0m\n\u001b[0;32m    131\u001b[0m \u001b[1;33m\u001b[0m\u001b[0m\n\u001b[0;32m    132\u001b[0m         \u001b[1;31m# convert model\u001b[0m\u001b[1;33m\u001b[0m\u001b[1;33m\u001b[0m\u001b[1;33m\u001b[0m\u001b[0m\n\u001b[1;32m--> 133\u001b[1;33m         \u001b[0mself\u001b[0m\u001b[1;33m.\u001b[0m\u001b[0mnet\u001b[0m \u001b[1;33m=\u001b[0m \u001b[0mself\u001b[0m\u001b[1;33m.\u001b[0m\u001b[0mget_converter\u001b[0m\u001b[1;33m(\u001b[0m\u001b[0mmodel\u001b[0m\u001b[1;33m)\u001b[0m\u001b[1;33m.\u001b[0m\u001b[0mconvert\u001b[0m\u001b[1;33m(\u001b[0m\u001b[1;32mNone\u001b[0m\u001b[1;33m)\u001b[0m\u001b[1;33m\u001b[0m\u001b[1;33m\u001b[0m\u001b[0m\n\u001b[0m\u001b[0;32m    134\u001b[0m \u001b[1;33m\u001b[0m\u001b[0m\n\u001b[0;32m    135\u001b[0m         \u001b[1;31m# set model from the converter in case the converter has changed the model type\u001b[0m\u001b[1;33m\u001b[0m\u001b[1;33m\u001b[0m\u001b[1;33m\u001b[0m\u001b[0m\n",
      "\u001b[1;32m~\\AppData\\Roaming\\Python\\Python37\\site-packages\\nengo_dl\\converter.py\u001b[0m in \u001b[0;36mconvert\u001b[1;34m(self, node_id)\u001b[0m\n\u001b[0;32m    954\u001b[0m         \u001b[0mlogger\u001b[0m\u001b[1;33m.\u001b[0m\u001b[0minfo\u001b[0m\u001b[1;33m(\u001b[0m\u001b[1;34m\"Using TensorNode %s\"\u001b[0m\u001b[1;33m,\u001b[0m \u001b[0mself\u001b[0m\u001b[1;33m.\u001b[0m\u001b[0mtensor_layer\u001b[0m\u001b[1;33m)\u001b[0m\u001b[1;33m\u001b[0m\u001b[1;33m\u001b[0m\u001b[0m\n\u001b[0;32m    955\u001b[0m \u001b[1;33m\u001b[0m\u001b[0m\n\u001b[1;32m--> 956\u001b[1;33m         \u001b[0minput_obj\u001b[0m \u001b[1;33m=\u001b[0m \u001b[0mself\u001b[0m\u001b[1;33m.\u001b[0m\u001b[0mget_input_obj\u001b[0m\u001b[1;33m(\u001b[0m\u001b[0mnode_id\u001b[0m\u001b[1;33m)\u001b[0m\u001b[1;33m\u001b[0m\u001b[1;33m\u001b[0m\u001b[0m\n\u001b[0m\u001b[0;32m    957\u001b[0m         output = self.tensor_layer(\n\u001b[0;32m    958\u001b[0m             \u001b[0minput_obj\u001b[0m\u001b[1;33m,\u001b[0m \u001b[0mshape_in\u001b[0m\u001b[1;33m=\u001b[0m\u001b[0mself\u001b[0m\u001b[1;33m.\u001b[0m\u001b[0minput_shape\u001b[0m\u001b[1;33m(\u001b[0m\u001b[0mnode_id\u001b[0m\u001b[1;33m)\u001b[0m\u001b[1;33m,\u001b[0m \u001b[0mlabel\u001b[0m\u001b[1;33m=\u001b[0m\u001b[0mself\u001b[0m\u001b[1;33m.\u001b[0m\u001b[0mlayer\u001b[0m\u001b[1;33m.\u001b[0m\u001b[0mname\u001b[0m\u001b[1;33m\u001b[0m\u001b[1;33m\u001b[0m\u001b[0m\n",
      "\u001b[1;32m~\\AppData\\Roaming\\Python\\Python37\\site-packages\\nengo_dl\\converter.py\u001b[0m in \u001b[0;36mget_input_obj\u001b[1;34m(self, node_id, tensor_idx)\u001b[0m\n\u001b[0;32m    664\u001b[0m             \u001b[0mThe\u001b[0m \u001b[0mNengo\u001b[0m \u001b[0mobject\u001b[0m \u001b[0mwhose\u001b[0m \u001b[0moutput\u001b[0m \u001b[0mcorresponds\u001b[0m \u001b[0mto\u001b[0m \u001b[0mthe\u001b[0m \u001b[0mgiven\u001b[0m \u001b[0minput\u001b[0m \u001b[0mof\u001b[0m \u001b[0mthis\u001b[0m \u001b[0mlayer\u001b[0m\u001b[1;33m.\u001b[0m\u001b[1;33m\u001b[0m\u001b[1;33m\u001b[0m\u001b[0m\n\u001b[0;32m    665\u001b[0m         \"\"\"\n\u001b[1;32m--> 666\u001b[1;33m         \u001b[0minput_node\u001b[0m \u001b[1;33m=\u001b[0m \u001b[0mself\u001b[0m\u001b[1;33m.\u001b[0m\u001b[0mlayer\u001b[0m\u001b[1;33m.\u001b[0m\u001b[0minbound_nodes\u001b[0m\u001b[1;33m[\u001b[0m\u001b[0mnode_id\u001b[0m\u001b[1;33m]\u001b[0m\u001b[1;33m\u001b[0m\u001b[1;33m\u001b[0m\u001b[0m\n\u001b[0m\u001b[0;32m    667\u001b[0m \u001b[1;33m\u001b[0m\u001b[0m\n\u001b[0;32m    668\u001b[0m         \u001b[0minput_tensors\u001b[0m \u001b[1;33m=\u001b[0m \u001b[0minput_node\u001b[0m\u001b[1;33m.\u001b[0m\u001b[0minput_tensors\u001b[0m\u001b[1;33m\u001b[0m\u001b[1;33m\u001b[0m\u001b[0m\n",
      "\u001b[1;31mTypeError\u001b[0m: list indices must be integers or slices, not NoneType"
     ]
    }
   ],
   "source": [
    "model = VAE()\n",
    "converter = nengo_dl.Converter(model)"
   ]
  },
  {
   "cell_type": "code",
   "execution_count": 13,
   "metadata": {
    "id": "7YGvZydrikhv"
   },
   "outputs": [
    {
     "ename": "TypeError",
     "evalue": "unsupported operand type(s) for *: 'float' and 'TensorNode'",
     "output_type": "error",
     "traceback": [
      "\u001b[1;31m---------------------------------------------------------------------------\u001b[0m",
      "\u001b[1;31mTypeError\u001b[0m                                 Traceback (most recent call last)",
      "\u001b[1;32m~\\AppData\\Local\\Temp\\ipykernel_11828\\650223455.py\u001b[0m in \u001b[0;36m<module>\u001b[1;34m\u001b[0m\n\u001b[0;32m     14\u001b[0m     \u001b[1;31m# reparameterize\u001b[0m\u001b[1;33m\u001b[0m\u001b[1;33m\u001b[0m\u001b[1;33m\u001b[0m\u001b[0m\n\u001b[0;32m     15\u001b[0m     \u001b[0mepsilon\u001b[0m \u001b[1;33m=\u001b[0m \u001b[0mnp\u001b[0m\u001b[1;33m.\u001b[0m\u001b[0mrandom\u001b[0m\u001b[1;33m.\u001b[0m\u001b[0mnormal\u001b[0m\u001b[1;33m(\u001b[0m\u001b[0msize\u001b[0m\u001b[1;33m=\u001b[0m\u001b[1;33m(\u001b[0m\u001b[0mvae\u001b[0m\u001b[1;33m.\u001b[0m\u001b[0mlatent_dim\u001b[0m\u001b[1;33m,\u001b[0m\u001b[1;33m)\u001b[0m\u001b[1;33m)\u001b[0m\u001b[1;33m\u001b[0m\u001b[1;33m\u001b[0m\u001b[0m\n\u001b[1;32m---> 16\u001b[1;33m     \u001b[0mz\u001b[0m \u001b[1;33m=\u001b[0m \u001b[0mbottleneck_mean\u001b[0m \u001b[1;33m+\u001b[0m \u001b[0mtf\u001b[0m\u001b[1;33m.\u001b[0m\u001b[0mexp\u001b[0m\u001b[1;33m(\u001b[0m\u001b[1;36m0.5\u001b[0m \u001b[1;33m*\u001b[0m \u001b[0mbottleneck_logvar\u001b[0m\u001b[1;33m)\u001b[0m \u001b[1;33m*\u001b[0m \u001b[0mepsilon\u001b[0m\u001b[1;33m\u001b[0m\u001b[1;33m\u001b[0m\u001b[0m\n\u001b[0m\u001b[0;32m     17\u001b[0m \u001b[1;33m\u001b[0m\u001b[0m\n\u001b[0;32m     18\u001b[0m     \u001b[1;31m# decoder\u001b[0m\u001b[1;33m\u001b[0m\u001b[1;33m\u001b[0m\u001b[1;33m\u001b[0m\u001b[0m\n",
      "\u001b[1;31mTypeError\u001b[0m: unsupported operand type(s) for *: 'float' and 'TensorNode'"
     ]
    }
   ],
   "source": [
    "# assuming you have a VAE instance\n",
    "vae = VAE()\n",
    "\n",
    "with nengo.Network() as net:\n",
    "    # assuming input images are 28x28 pixels\n",
    "    input_node = nengo.Node(output=np.zeros(28 * 28))\n",
    "\n",
    "    # create layers to match VAE structure\n",
    "    # note: you'll need to replace this with actual NengoDL layers\n",
    "    encoder = nengo_dl.Layer(tf.keras.layers.Dense(units=64, activation=tf.nn.relu))(input_node)\n",
    "    bottleneck_mean = nengo_dl.Layer(tf.keras.layers.Dense(units=vae.latent_dim, activation=tf.nn.relu))(encoder)\n",
    "    bottleneck_logvar = nengo_dl.Layer(tf.keras.layers.Dense(units=vae.latent_dim, activation=tf.nn.relu))(encoder)\n",
    "\n",
    "    # reparameterize\n",
    "    epsilon = np.random.normal(size=(vae.latent_dim,))\n",
    "    z = bottleneck_mean + tf.exp(0.5 * bottleneck_logvar) * epsilon\n",
    "\n",
    "    # decoder\n",
    "    decoder = nengo_dl.Layer(tf.keras.layers.Dense(units=7*7*64, activation=tf.nn.relu))(z)\n",
    "    output = nengo_dl.Layer(tf.keras.layers.Dense(units=28*28, activation=tf.nn.sigmoid))(decoder)\n",
    "\n",
    "# convert the Nengo network into a NengoDL simulator\n",
    "sim = nengo_dl.Simulator(net)\n"
   ]
  },
  {
   "cell_type": "markdown",
   "metadata": {
    "id": "sf9ABKqvikhv"
   },
   "source": [
    "One difference you'll note is that with Nengo we separate the creation of the layers and\n",
    "the creation of the connections between layers.  This is because the connection\n",
    "structure in Nengo networks often has a lot more state and general complexity than in\n",
    "typical deep learning networks, so it is helpful to be able to control it independently\n",
    "(we'll see examples of this later).\n",
    "\n",
    "Another new object you may notice is the `nengo.Probe`.  This is used to collect data\n",
    "from the simulation; by adding a probe to `nengo_c.neurons`, we are indicating that we\n",
    "want to collect the activities of those neurons when the simulation is running.  You can\n",
    "think of this like the `outputs` arguments in a Keras Model.\n",
    "\n",
    "We will not go into a lot of detail on Nengo here; there is much more functionality\n",
    "available, but we will focus on the features most familiar or relevant to those coming\n",
    "from a TensorFlow background.  For a more in-depth introduction to Nengo, check out the\n",
    "Nengo-specific [documentation](https://www.nengo.ai/nengo/) and\n",
    "[examples](https://www.nengo.ai/nengo/examples.html)."
   ]
  },
  {
   "cell_type": "markdown",
   "metadata": {
    "id": "Lx9Crcteikhz"
   },
   "source": [
    "## Inserting TensorFlow code\n",
    "\n",
    "The goal of NengoDL is not to replace TensorFlow or Nengo, but to allow them to smoothly\n",
    "work together.  Thus one important feature is the ability to write TensorFlow code\n",
    "directly, and insert it into a Nengo network.  This allows us to use whichever framework\n",
    "is best suited for different parts of a model.\n",
    "\n",
    "This functionality is accessed through the `nengo_dl.TensorNode` class.  This allows us\n",
    "to wrap TensorFlow code in a Nengo object, so that it can easily communicate with the\n",
    "rest of a Nengo model.  The TensorFlow code is written in a function that takes\n",
    "`tf.Tensors` as input, applies the desired manipulations through TensorFlow operations,\n",
    "and returns a `tf.Tensor`.  We then pass that function to the TensorNode.\n",
    "\n",
    "For simple cases we can use `nengo_dl.Layer`.  This is a simplified interface for\n",
    "constructing `TensorNodes` that mimics the Keras functional API.  For example, suppose\n",
    "we want to apply batch normalization to the output of one of the Nengo ensembles.  There\n",
    "is no built-in way to do batch normalization in Nengo, so we can instead turn to\n",
    "TensorFlow for this part of the model."
   ]
  },
  {
   "cell_type": "code",
   "execution_count": 23,
   "metadata": {
    "id": "w1J7tbT_ikh1"
   },
   "outputs": [],
   "source": [
    "with nengo.Network() as vae_net:\n",
    "    # input\n",
    "    nengo_a = nengo.Node(np.zeros(n_in))\n",
    "\n",
    "    # encoder layer\n",
    "    nengo_b = nengo.Ensemble(n_hidden, 1, neuron_type=nengo.RectifiedLinear())\n",
    "    nengo.Connection(nengo_a, nengo_b.neurons, transform=nengo_dl.dists.He())\n",
    "    \n",
    "    \n",
    "    \n",
    "    \n",
    "    \n",
    "    # decoder layer\n",
    "    nengo_c = nengo.Ensemble(n_in, 1, neuron_type=nengo.RectifiedLinear())\n",
    "    nengo.Connection(\n",
    "        nengo_b.neurons, nengo_c.neurons, transform=nengo_dl.dists.He()\n",
    "    )\n",
    "\n",
    "    # probes are used to collect data from the network\n",
    "    p_c = nengo.Probe(nengo_c.neurons)\n"
   ]
  },
  {
   "cell_type": "markdown",
   "metadata": {
    "id": "zDIyNKfEikh1"
   },
   "source": [
    "More details on TensorNode usage can be found in [the user\n",
    "guide](https://www.nengo.ai/nengo-dl/tensor-node.html)."
   ]
  },
  {
   "cell_type": "markdown",
   "metadata": {
    "id": "tRekPWmwikh1"
   },
   "source": [
    "## Deep learning parameter optimization\n",
    "\n",
    "NengoDL allows model parameters to be optimized via TensorFlow optimization algorithms,\n",
    "through the `Simulator.fit` function.  Returning to the autoencoder examples from the\n",
    "beginning of this tutorial, we'll optimize those networks to encode MNIST digits."
   ]
  },
  {
   "cell_type": "code",
   "execution_count": 31,
   "metadata": {
    "id": "c28EdWE3ikh1"
   },
   "outputs": [],
   "source": [
    "# download MNIST dataset\n",
    "(train_data, _), (test_data, _) = tf.keras.datasets.mnist.load_data()\n",
    "# flatten images\n",
    "train_data = train_data.reshape((train_data.shape[0], -1))\n",
    "test_data = test_data.reshape((test_data.shape[0], -1))\n",
    "\n",
    "n_epochs = 2"
   ]
  },
  {
   "cell_type": "markdown",
   "metadata": {
    "id": "tHATU-aFikh1"
   },
   "source": [
    "Before running the same training in NengoDL, we'll change the Nengo model parameters to\n",
    "more closely match the TensorFlow network (we omitted these details in the original\n",
    "presentation to keep things simple)."
   ]
  },
  {
   "cell_type": "code",
   "execution_count": 32,
   "metadata": {
    "id": "BG2co-Qaikh2"
   },
   "outputs": [],
   "source": [
    "# set initial neuron gains to 1 and biases to 0\n",
    "for ens in vae_net.all_ensembles:\n",
    "    ens.gain = nengo.dists.Choice([1])\n",
    "    ens.bias = nengo.dists.Choice([0])\n",
    "\n",
    "# disable synaptic filtering on all connections\n",
    "for conn in vae_net.all_connections:\n",
    "    conn.synapse = None"
   ]
  },
  {
   "cell_type": "markdown",
   "metadata": {
    "id": "2kZ_m5MGikh2"
   },
   "source": [
    "We also need to modify the data slightly.  As mentioned above, NengoDL simulations are\n",
    "essentially temporal, so data is described over time (indicating what the inputs/targets\n",
    "should be on each simulation timestep).  So instead of the data having shape\n",
    "`(batch_size, n)`, it will have shape `(batch_size, n_steps, n)`.  In this case we'll\n",
    "just be training for a single timestep, but we still need to add that extra axis with\n",
    "length 1."
   ]
  },
  {
   "cell_type": "code",
   "execution_count": 33,
   "metadata": {
    "id": "ASYzCA1Kikh2"
   },
   "outputs": [],
   "source": [
    "train_data = train_data[:, None, :]\n",
    "test_data = test_data[:, None, :]"
   ]
  },
  {
   "cell_type": "markdown",
   "metadata": {
    "id": "euh0alvfikh2"
   },
   "source": [
    "Now we can run the NengoDL equivalent of the above TensorFlow training (note: the\n",
    "results will not match exactly due to different random initializations):"
   ]
  },
  {
   "cell_type": "code",
   "execution_count": 34,
   "metadata": {
    "id": "hbu5BMgJikh2"
   },
   "outputs": [
    {
     "name": "stdout",
     "output_type": "stream",
     "text": [
      "Build finished in 0:00:00                                                      \n",
      "Optimization finished in 0:00:00                                               \n",
      "Construction finished in 0:00:00                                               \n",
      "Epoch 1/2\n",
      "1200/1200 [==============================] - 8s 6ms/step - loss: 1678.4037 - probe_loss: 1678.4037\n",
      "Epoch 2/2\n",
      "1200/1200 [==============================] - 7s 6ms/step - loss: 1083.7755 - probe_loss: 1083.7755\n",
      "200/200 [==============================] - 1s 4ms/step - loss: 998.5309 - probe_loss: 998.5309\n"
     ]
    },
    {
     "data": {
      "image/png": "[encoded data removed]",
      "text/plain": [
       "<Figure size 640x480 with 1 Axes>"
      ]
     },
     "metadata": {},
     "output_type": "display_data"
    },
    {
     "name": "stdout",
     "output_type": "stream",
     "text": [
      "1/1 [==============================] - 0s 212ms/step                         \n"
     ]
    },
    {
     "data": {
      "image/png": "[encoded data removed]",
      "text/plain": [
       "<Figure size 640x480 with 1 Axes>"
      ]
     },
     "metadata": {},
     "output_type": "display_data"
    }
   ],
   "source": [
    "with nengo_dl.Simulator(vae_net, minibatch_size=minibatch_size) as sim:\n",
    "    sim.compile(optimizer=tf.optimizers.RMSprop(1e-3), loss=tf.losses.mse)\n",
    "\n",
    "    # run training loop\n",
    "    sim.fit(train_data, train_data, epochs=n_epochs)\n",
    "\n",
    "    # evaluate performance on test set\n",
    "    sim.evaluate(test_data, test_data)\n",
    "\n",
    "    # display example output\n",
    "    plt.figure()\n",
    "    plt.imshow(test_data[0,0,:].reshape((28, 28)))\n",
    "    plt.show()\n",
    "    output = sim.predict(test_data[:minibatch_size])\n",
    "    plt.figure()\n",
    "    plt.imshow(output[p_c][0].reshape((28, 28)))\n",
    "    plt.show()"
   ]
  },
  {
   "cell_type": "code",
   "execution_count": 14,
   "metadata": {},
   "outputs": [
    {
     "name": "stdout",
     "output_type": "stream",
     "text": [
      "<Probe of 'output' of <Neurons of <Ensemble (unlabeled) at 0x16d31a66f08>>>\n",
      "{<Probe at 0x16d6c241688 of 'output' of <Neurons of <Ensemble (unlabeled) at 0x16d31a66f08>>>: array([[[0., 0., 0., ..., 0., 0., 0.]],\n",
      "\n",
      "       [[0., 0., 0., ..., 0., 0., 0.]],\n",
      "\n",
      "       [[0., 0., 0., ..., 0., 0., 0.]],\n",
      "\n",
      "       ...,\n",
      "\n",
      "       [[0., 0., 0., ..., 0., 0., 0.]],\n",
      "\n",
      "       [[0., 0., 0., ..., 0., 0., 0.]],\n",
      "\n",
      "       [[0., 0., 0., ..., 0., 0., 0.]]], dtype=float32)}\n"
     ]
    }
   ],
   "source": [
    "print(p_c)\n",
    "print(output)"
   ]
  },
  {
   "cell_type": "markdown",
   "metadata": {
    "id": "PzFEtKXnikh2"
   },
   "source": [
    "More details on using `sim.fit` can be found in [the user\n",
    "guide](https://www.nengo.ai/nengo-dl/simulator.html)."
   ]
  },
  {
   "cell_type": "markdown",
   "metadata": {
    "id": "wq8DjylXikiA"
   },
   "source": [
    "## Conclusion\n",
    "\n",
    "In this tutorial we have demonstrated how to translate TensorFlow concepts into NengoDL,\n",
    "including network construction, execution, and optimization.  We have also discussed how\n",
    "to use TensorNodes to combine TensorFlow and Nengo code, and introduced some of the\n",
    "unique features of Nengo (such as NEF optimization and neuromorphic cross-platform\n",
    "execution).  However, there is much more functionality in NengoDL than we are able to\n",
    "introduce here; check out the [user\n",
    "guide](https://www.nengo.ai/nengo-dl/user-guide.html) or [other\n",
    "examples](https://www.nengo.ai/nengo-dl/examples.html) for more information.  If you\n",
    "would like more information on how NengoDL is implemented under the hood using\n",
    "TensorFlow, check out the [white paper](https://arxiv.org/abs/1805.11144)."
   ]
  }
 ],
 "metadata": {
  "colab": {
   "provenance": []
  },
  "kernelspec": {
   "display_name": "Python 3 (ipykernel)",
   "language": "python",
   "name": "python3"
  },
  "language_info": {
   "codemirror_mode": {
    "name": "ipython",
    "version": 3
   },
   "file_extension": ".py",
   "mimetype": "text/x-python",
   "name": "python",
   "nbconvert_exporter": "python",
   "pygments_lexer": "ipython3",
   "version": "3.7.9"
  }
 },
 "nbformat": 4,
 "nbformat_minor": 1
}
