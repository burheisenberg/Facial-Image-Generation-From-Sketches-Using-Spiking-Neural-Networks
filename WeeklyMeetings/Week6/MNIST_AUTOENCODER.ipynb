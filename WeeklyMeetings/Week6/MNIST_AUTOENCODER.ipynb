{
 "cells": [
  {
   "cell_type": "code",
   "execution_count": 1,
   "id": "15441e75",
   "metadata": {},
   "outputs": [],
   "source": [
    "import torch\n",
    "import torch.nn as nn\n",
    "import torch.nn.functional as F\n",
    "import norse.torch as norse\n",
    "from norse.torch import PoissonEncoder\n",
    "\n",
    "import matplotlib.pyplot as plt\n",
    "import numpy as np"
   ]
  },
  {
   "cell_type": "code",
   "execution_count": 2,
   "id": "3122dc55",
   "metadata": {},
   "outputs": [],
   "source": [
    "# MNIST LOADER\n",
    "import torchvision\n",
    "\n",
    "BATCH_SIZE = 256\n",
    "\n",
    "transform = torchvision.transforms.Compose(\n",
    "    [\n",
    "        torchvision.transforms.ToTensor(),\n",
    "        torchvision.transforms.Normalize((0.1307,), (0.3081,)),\n",
    "    ]\n",
    ")\n",
    "\n",
    "train_data = torchvision.datasets.MNIST(\n",
    "    root=\".\",\n",
    "    train=True,\n",
    "    download=True,\n",
    "    transform=transform,\n",
    ")\n",
    "\n",
    "train_loader = torch.utils.data.DataLoader(\n",
    "    train_data, batch_size=BATCH_SIZE, shuffle=True\n",
    ")\n",
    "\n",
    "test_loader = torch.utils.data.DataLoader(\n",
    "    torchvision.datasets.MNIST(\n",
    "        root=\".\",\n",
    "        train=False,\n",
    "        transform=transform,\n",
    "    ),\n",
    "    batch_size=BATCH_SIZE,\n",
    ")"
   ]
  },
  {
   "cell_type": "code",
   "execution_count": 3,
   "id": "5d66a087",
   "metadata": {},
   "outputs": [
    {
     "name": "stdout",
     "output_type": "stream",
     "text": [
      "0\n"
     ]
    },
    {
     "data": {
      "image/png": "[encoded data removed]",
      "text/plain": [
       "<Figure size 480x480 with 2 Axes>"
      ]
     },
     "metadata": {},
     "output_type": "display_data"
    },
    {
     "data": {
      "image/png": "[encoded data removed]",
      "text/plain": [
       "<Figure size 640x480 with 1 Axes>"
      ]
     },
     "metadata": {},
     "output_type": "display_data"
    }
   ],
   "source": [
    "from norse.torch.functional.decode import sum_decode\n",
    "from norse.torch.module.encode import SpikeLatencyLIFEncoder\n",
    "\n",
    "# example image\n",
    "img, label = train_data[1]\n",
    "\n",
    "plt.matshow(img[0])\n",
    "plt.colorbar()\n",
    "print(label)\n",
    "\n",
    "# encoding scheme\n",
    "T = 128\n",
    "#poisson_encoder = PoissonEncoder(T,f_max=20)\n",
    "#spike_train_img = poisson_encoder(img).reshape(T,28*28).to_sparse().coalesce()\n",
    "spike_latency_encoder = SpikeLatencyLIFEncoder(T)\n",
    "spike_train_img = spike_latency_encoder(img).reshape(T,28*28).to_sparse().coalesce()\n",
    "t = spike_train_img.indices()[0]\n",
    "n = spike_train_img.indices()[1]\n",
    "plt.figure()\n",
    "plt.scatter(t, n, marker=\"|\", color=\"black\")\n",
    "plt.ylabel(\"Input Unit\")\n",
    "plt.xlabel(\"Time [ms]\")\n",
    "plt.show()\n",
    "\n",
    "def decode(x):\n",
    "    #x = torch.mean(x, dim=0)\n",
    "    x= x[-1]\n",
    "    #print(\"x.shape\")\n",
    "    #print(x.shape)\n",
    "    #print(\"value.shape\")\n",
    "    #print(value.shape)\n",
    "    #x = sum_decode(x)\n",
    "    #print(x.shape)\n",
    "    return x"
   ]
  },
  {
   "cell_type": "code",
   "execution_count": 4,
   "id": "e13dda03",
   "metadata": {},
   "outputs": [],
   "source": [
    "from norse.torch.module.lif import LIFCell\n",
    "from norse.torch.functional import LIFParameters\n",
    "from norse.torch.module.leaky_integrator import LICell, LIParameters\n",
    "class AutoEncoder(nn.Module):\n",
    "    def __init__(self,num_channels=1,feature_size=28,method=\"super\",alpha=100,dt=0.001):\n",
    "        super(AutoEncoder,self).__init__()\n",
    "        \n",
    "        self.feature_size = feature_size\n",
    "        \n",
    "        # Encoder\n",
    "        self.encoder1 = norse.SequentialState(\n",
    "            nn.Conv2d(in_channels=num_channels,out_channels=4,kernel_size=4,stride=2,padding=1), # 8x14x14\n",
    "            LIFCell(p=LIFParameters(tau_syn_inv=300, tau_mem_inv=100, method=method, alpha=alpha))\n",
    "        )\n",
    "        self.encoder2 = norse.SequentialState(\n",
    "            nn.Conv2d(in_channels=4,out_channels=4,kernel_size=4,stride=2,padding=1), # 8x7x7\n",
    "            LIFCell(p=LIFParameters(tau_syn_inv=300, tau_mem_inv=100, method=method, alpha=alpha))\n",
    "        )\n",
    "        \n",
    "        # Bottleneck\n",
    "        self.bottleneck1 = norse.SequentialState(\n",
    "            nn.Flatten(),\n",
    "            nn.Linear(4*7*7, 3),\n",
    "            LIFCell(p=LIFParameters(tau_syn_inv=300, tau_mem_inv=100, method=method, alpha=alpha))\n",
    "        )\n",
    "        self.bottleneck2 = norse.SequentialState(\n",
    "            nn.Linear(3,4*7*7),\n",
    "            LIFCell(p=LIFParameters(tau_syn_inv=300, tau_mem_inv=100, method=method, alpha=alpha))\n",
    "        )\n",
    "        \n",
    "        # Decoder\n",
    "        self.decoder1 = norse.SequentialState(\n",
    "            nn.Unflatten(1,(4,7,7)), # 8x7x7\n",
    "            nn.Upsample(size=(14,14),mode='bilinear',align_corners=True),\n",
    "            nn.Conv2d(in_channels=4,out_channels=4,kernel_size=3,stride=1,padding=1), # 8x14x14\n",
    "            LIFCell(p=LIFParameters(tau_syn_inv=300, tau_mem_inv=100, method=method, alpha=alpha))\n",
    "        )\n",
    "        self.decoder2 = norse.SequentialState(\n",
    "            nn.Upsample(size=(28,28),mode='bilinear',align_corners=True), # 8x28x28\n",
    "            nn.Conv2d(in_channels=4,out_channels=num_channels,kernel_size=3,stride=1,padding=1), # 1x28x28\n",
    "            LICell(p=LIParameters(tau_syn_inv=300, tau_mem_inv=100),dt=dt)\n",
    "            #LIFCell(p=LIFParameters(tau_syn_inv=900, tau_mem_inv=600, method=method, alpha=alpha))\n",
    "        )\n",
    "        \n",
    "    def forward(self,x):\n",
    "        seq_length = x.shape[0]\n",
    "        batch_size = x.shape[1]\n",
    "        num_channels = x.shape[2]\n",
    "        height = x.shape[3]\n",
    "        \n",
    "        # specify the initial states\n",
    "        s0=s1=s2=s3=s4=so=None\n",
    "        \n",
    "        voltages = torch.zeros(seq_length,batch_size,num_channels,height,height,device=x.device,dtype=x.dtype)\n",
    "        \n",
    "        for ts in range(seq_length):\n",
    "            z,s0 = self.encoder1(x[ts,:],s0)\n",
    "            z,s1 = self.encoder2(z,s1)\n",
    "            z,s2 = self.bottleneck1(z,s2)\n",
    "            z,s3 = self.bottleneck2(z,s3)\n",
    "            z,s4 = self.decoder1(z,s4)\n",
    "            vo,so = self.decoder2(z,so)\n",
    "            \n",
    "            voltages[ts,:] += torch.Tensor(vo)\n",
    "        \n",
    "        return voltages"
   ]
  },
  {
   "cell_type": "code",
   "execution_count": 5,
   "id": "f35ca390",
   "metadata": {},
   "outputs": [],
   "source": [
    "class Model(torch.nn.Module):\n",
    "    def __init__(self, encoder, snn, decoder):\n",
    "        super(Model, self).__init__()\n",
    "        self.encoder = encoder\n",
    "        self.snn = snn\n",
    "        self.decoder = decoder\n",
    "\n",
    "    def forward(self, x):\n",
    "        x = self.encoder(x)\n",
    "        x = self.snn(x)\n",
    "        x = self.decoder(x)\n",
    "        return x"
   ]
  },
  {
   "cell_type": "code",
   "execution_count": 6,
   "id": "3129c892",
   "metadata": {},
   "outputs": [],
   "source": [
    "from tqdm.notebook import tqdm, trange\n",
    "\n",
    "EPOCHS = 2  # Increase this number for better performance\n",
    "\n",
    "\n",
    "def train(model, device, train_loader, optimizer, epoch, max_epochs):\n",
    "    model.train()\n",
    "    losses = []\n",
    "\n",
    "    for (data, target) in tqdm(train_loader, leave=False):\n",
    "        data, target = data.to(device), target.to(device)\n",
    "        target = data ## autoencoding task\n",
    "        optimizer.zero_grad()\n",
    "        output = model(data)\n",
    "        loss = F.mse_loss(output, target)\n",
    "        loss.backward()\n",
    "        optimizer.step()\n",
    "        losses.append(loss.item())\n",
    "\n",
    "    mean_loss = np.mean(losses)\n",
    "    return losses, mean_loss"
   ]
  },
  {
   "cell_type": "code",
   "execution_count": 7,
   "id": "b19545af",
   "metadata": {},
   "outputs": [
    {
     "name": "stdout",
     "output_type": "stream",
     "text": [
      "cuda\n"
     ]
    },
    {
     "data": {
      "text/plain": [
       "Model(\n",
       "  (encoder): SpikeLatencyLIFEncoder()\n",
       "  (snn): AutoEncoder(\n",
       "    (encoder1): SequentialState(\n",
       "      (0): Conv2d(1, 4, kernel_size=(4, 4), stride=(2, 2), padding=(1, 1))\n",
       "      (1): LIFCell(p=LIFParameters(tau_syn_inv=tensor(300), tau_mem_inv=tensor(100), v_leak=tensor(0.), v_th=tensor(1.), v_reset=tensor(0.), method='super', alpha=tensor(100)), dt=0.001)\n",
       "    )\n",
       "    (encoder2): SequentialState(\n",
       "      (0): Conv2d(4, 4, kernel_size=(4, 4), stride=(2, 2), padding=(1, 1))\n",
       "      (1): LIFCell(p=LIFParameters(tau_syn_inv=tensor(300), tau_mem_inv=tensor(100), v_leak=tensor(0.), v_th=tensor(1.), v_reset=tensor(0.), method='super', alpha=tensor(100)), dt=0.001)\n",
       "    )\n",
       "    (bottleneck1): SequentialState(\n",
       "      (0): Flatten(start_dim=1, end_dim=-1)\n",
       "      (1): Linear(in_features=196, out_features=3, bias=True)\n",
       "      (2): LIFCell(p=LIFParameters(tau_syn_inv=tensor(300), tau_mem_inv=tensor(100), v_leak=tensor(0.), v_th=tensor(1.), v_reset=tensor(0.), method='super', alpha=tensor(100)), dt=0.001)\n",
       "    )\n",
       "    (bottleneck2): SequentialState(\n",
       "      (0): Linear(in_features=3, out_features=196, bias=True)\n",
       "      (1): LIFCell(p=LIFParameters(tau_syn_inv=tensor(300), tau_mem_inv=tensor(100), v_leak=tensor(0.), v_th=tensor(1.), v_reset=tensor(0.), method='super', alpha=tensor(100)), dt=0.001)\n",
       "    )\n",
       "    (decoder1): SequentialState(\n",
       "      (0): Unflatten(dim=1, unflattened_size=(4, 7, 7))\n",
       "      (1): Upsample(size=(14, 14), mode='bilinear')\n",
       "      (2): Conv2d(4, 4, kernel_size=(3, 3), stride=(1, 1), padding=(1, 1))\n",
       "      (3): LIFCell(p=LIFParameters(tau_syn_inv=tensor(300), tau_mem_inv=tensor(100), v_leak=tensor(0.), v_th=tensor(1.), v_reset=tensor(0.), method='super', alpha=tensor(100)), dt=0.001)\n",
       "    )\n",
       "    (decoder2): SequentialState(\n",
       "      (0): Upsample(size=(28, 28), mode='bilinear')\n",
       "      (1): Conv2d(4, 1, kernel_size=(3, 3), stride=(1, 1), padding=(1, 1))\n",
       "      (2): LICell(p=LIParameters(tau_syn_inv=300, tau_mem_inv=100, v_leak=tensor(0.)), dt=0.001)\n",
       "    )\n",
       "  )\n",
       ")"
      ]
     },
     "execution_count": 7,
     "metadata": {},
     "output_type": "execute_result"
    }
   ],
   "source": [
    "if torch.cuda.is_available():\n",
    "    DEVICE = torch.device(\"cuda\")\n",
    "else:\n",
    "    DEVICE = torch.device(\"cpu\")\n",
    "print(DEVICE)\n",
    "\n",
    "model = Model(\n",
    "    encoder=spike_latency_encoder,\n",
    "    snn=AutoEncoder(1,28,\"super\",100,0.001),\n",
    "    decoder=decode\n",
    ").to(DEVICE)\n",
    "\n",
    "optimizer = torch.optim.Adam(model.parameters(), lr=1e-3)\n",
    "model"
   ]
  },
  {
   "cell_type": "code",
   "execution_count": null,
   "id": "2760b747",
   "metadata": {},
   "outputs": [
    {
     "data": {
      "application/vnd.jupyter.widget-view+json": {
       "model_id": "f850b0cadbf34e6fb7a45e4a25fe9eb7",
       "version_major": 2,
       "version_minor": 0
      },
      "text/plain": [
       "  0%|          | 0/2 [00:00<?, ?it/s]"
      ]
     },
     "metadata": {},
     "output_type": "display_data"
    },
    {
     "data": {
      "application/vnd.jupyter.widget-view+json": {
       "model_id": "23f9a242ad9c432e8ad215208829172a",
       "version_major": 2,
       "version_minor": 0
      },
      "text/plain": [
       "  0%|          | 0/40 [00:00<?, ?it/s]"
      ]
     },
     "metadata": {},
     "output_type": "display_data"
    }
   ],
   "source": [
    "training_losses = []\n",
    "mean_losses = []\n",
    "test_losses = []\n",
    "accuracies = []\n",
    "\n",
    "torch.autograd.set_detect_anomaly(True)\n",
    "\n",
    "for epoch in trange(EPOCHS):\n",
    "    training_loss, mean_loss = train(\n",
    "        model, DEVICE, test_loader, optimizer, epoch, max_epochs=EPOCHS\n",
    "    )\n",
    "    #test_loss, accuracy = test(model, DEVICE, test_loader, epoch)\n",
    "    training_losses += training_loss\n",
    "    mean_losses.append(mean_loss)\n",
    "    #test_losses.append(test_loss)\n",
    "    #accuracies.append(accuracy)\n",
    "\n",
    "#print(f\"final accuracy: {accuracies[-1]}\")"
   ]
  },
  {
   "cell_type": "code",
   "execution_count": null,
   "id": "3947e885",
   "metadata": {},
   "outputs": [],
   "source": [
    "# Test function\n",
    "def test_ae(model, dataloader):\n",
    "    device = torch.device(\"cuda\" if torch.cuda.is_available() else \"cpu\")\n",
    "    model.eval()\n",
    "    \n",
    "    with torch.no_grad():\n",
    "        for inputs, targets in dataloader:\n",
    "            inputs = inputs.to(device)\n",
    "            \n",
    "            # Forward pass\n",
    "            recon_batch = model(inputs)\n",
    "\n",
    "            # Visualize original and reconstructed images\n",
    "            visualize_images(inputs, recon_batch, 5)\n",
    "            \n",
    "# Visualization function\n",
    "def visualize_images(original, reconstructed, num_images=5):\n",
    "    original = original.cpu().numpy()\n",
    "    reconstructed = reconstructed.cpu().numpy()\n",
    "    \n",
    "    print(np.max(reconstructed))\n",
    "    #print(reconstructed.shape)\n",
    "    fig, axes = plt.subplots(2, num_images, figsize=(num_images * 2, 4))\n",
    "\n",
    "    for i in range(num_images):\n",
    "        # Original images\n",
    "        \n",
    "        reconstructed[i] = (reconstructed[i] - np.min(reconstructed[i])) / (np.max(reconstructed[i]) - np.min(reconstructed[i]))\n",
    "        \n",
    "        axes[0, i].imshow(np.transpose(original[i], (1, 2, 0)))\n",
    "        axes[0, i].axis('off')\n",
    "        axes[0, i].set_title(\"Original\")\n",
    "\n",
    "        # Reconstructed images\n",
    "        axes[1, i].imshow(np.transpose(reconstructed[i], (1, 2, 0)))\n",
    "        axes[1, i].axis('off')\n",
    "        axes[1, i].set_title(\"Reconstructed\")\n",
    "\n",
    "    plt.show()"
   ]
  },
  {
   "cell_type": "code",
   "execution_count": null,
   "id": "356027df",
   "metadata": {},
   "outputs": [],
   "source": [
    "#test_ae(model,train_loader)\n",
    "test_ae(model,test_loader)"
   ]
  },
  {
   "cell_type": "code",
   "execution_count": null,
   "id": "bca705d1",
   "metadata": {},
   "outputs": [],
   "source": []
  }
 ],
 "metadata": {
  "kernelspec": {
   "display_name": "Python 3 (ipykernel)",
   "language": "python",
   "name": "python3"
  },
  "language_info": {
   "codemirror_mode": {
    "name": "ipython",
    "version": 3
   },
   "file_extension": ".py",
   "mimetype": "text/x-python",
   "name": "python",
   "nbconvert_exporter": "python",
   "pygments_lexer": "ipython3",
   "version": "3.7.9"
  }
 },
 "nbformat": 4,
 "nbformat_minor": 5
}
