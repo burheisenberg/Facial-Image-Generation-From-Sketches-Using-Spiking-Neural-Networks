{
 "cells": [
  {
   "cell_type": "code",
   "execution_count": 1,
   "id": "1b998e9b",
   "metadata": {},
   "outputs": [
    {
     "data": {
      "text/plain": [
       "'1.0.0'"
      ]
     },
     "execution_count": 1,
     "metadata": {},
     "output_type": "execute_result"
    }
   ],
   "source": [
    "import matplotlib.pyplot as plt\n",
    "import torch\n",
    "import norse\n",
    "import numpy as np\n",
    "\n",
    "norse.__version__"
   ]
  },
  {
   "cell_type": "code",
   "execution_count": 2,
   "id": "16829abb",
   "metadata": {},
   "outputs": [
    {
     "data": {
      "text/plain": [
       "LI(p=LIParameters(tau_syn_inv=tensor(200.), tau_mem_inv=tensor(100.), v_leak=tensor(0.)), dt=0.001)"
      ]
     },
     "execution_count": 2,
     "metadata": {},
     "output_type": "execute_result"
    }
   ],
   "source": [
    "activation = norse.torch.LI()\n",
    "activation"
   ]
  },
  {
   "cell_type": "code",
   "execution_count": 3,
   "id": "ae3bea53",
   "metadata": {},
   "outputs": [],
   "source": [
    "data = torch.zeros(1000,1)\n",
    "data[20] =  1.0\n",
    "data[100] = 1.0\n",
    "\n",
    "voltage_trace, _ = activation(data)"
   ]
  },
  {
   "cell_type": "code",
   "execution_count": 4,
   "id": "edf97647",
   "metadata": {},
   "outputs": [
    {
     "data": {
      "text/plain": [
       "[<matplotlib.lines.Line2D at 0x1fcc751eb50>]"
      ]
     },
     "execution_count": 4,
     "metadata": {},
     "output_type": "execute_result"
    },
    {
     "data": {
      "image/png": "[encoded data removed]",
      "text/plain": [
       "<Figure size 640x480 with 1 Axes>"
      ]
     },
     "metadata": {},
     "output_type": "display_data"
    }
   ],
   "source": [
    "plt.xlabel('time [ms]')\n",
    "plt.ylabel('membrane potential')\n",
    "plt.plot(voltage_trace.detach())\n",
    "#plt.axvline(20, color='red')\n",
    "#plt.axvline(100, color='red')"
   ]
  },
  {
   "cell_type": "code",
   "execution_count": 5,
   "id": "b6e845d8",
   "metadata": {},
   "outputs": [
    {
     "data": {
      "application/vnd.jupyter.widget-view+json": {
       "model_id": "e930f87360904d39a49748ff5b82a414",
       "version_major": 2,
       "version_minor": 0
      },
      "text/plain": [
       "interactive(children=(FloatSlider(value=10.0, continuous_update=False, description='tau_mem', max=200.0, min=1…"
      ]
     },
     "metadata": {},
     "output_type": "display_data"
    }
   ],
   "source": [
    "from ipywidgets import interact, IntSlider, FloatSlider\n",
    "from functools import partial\n",
    "IntSlider = partial(IntSlider, continuous_update=False)\n",
    "FloatSlider = partial(FloatSlider, continuous_update=False)\n",
    "\n",
    "\n",
    "@interact(\n",
    "    tau_mem=FloatSlider(min=10,max=200,step=1.0, value=10),\n",
    "    tau_syn=FloatSlider(min=10,max=200,step=1.0, value=20),\n",
    "    t0=IntSlider(min=0, max=1000, step=1, value=20),\n",
    "    t1=IntSlider(min=0, max=1000, step=1, value=100),\n",
    ")\n",
    "def experiment(tau_mem, tau_syn, t0, t1):\n",
    "    plt.figure()\n",
    "    num_neurons = 1\n",
    "    tau_mem_inv = torch.tensor([1/(tau_mem * 0.001)])\n",
    "    tau_syn_inv = torch.tensor([1/(tau_syn * 0.001)])\n",
    "    data = torch.zeros(1000,num_neurons)\n",
    "    data[t0] =  1.0\n",
    "    data[t1] = 1.0\n",
    "\n",
    "    voltage_trace, _ = norse.torch.LI(p=norse.torch.LIParameters(tau_mem_inv=tau_mem_inv, tau_syn_inv=tau_syn_inv))(data)\n",
    "    plt.xlabel('time [ms]')\n",
    "    plt.ylabel('membrane potential')\n",
    "    for i in range(num_neurons):\n",
    "        plt.plot(voltage_trace.detach()[:,i])\n",
    "    plt.axvline(t0, color='red', alpha=0.9)\n",
    "    plt.axvline(t1, color='red', alpha=0.9)\n",
    "    plt.show()"
   ]
  },
  {
   "cell_type": "code",
   "execution_count": 6,
   "id": "af491d25",
   "metadata": {},
   "outputs": [],
   "source": [
    "def integrate_and_record_voltages(cell):\n",
    "    def integrate(input_spike_train):\n",
    "        T = input_spike_train.shape[0]\n",
    "        s = None\n",
    "        spikes = []\n",
    "        voltage_trace = []\n",
    "        for ts in range(T):\n",
    "            z, s = cell(input_spike_train[ts], s)\n",
    "            spikes.append(z)\n",
    "            voltage_trace.append(s.v)\n",
    "        return torch.stack(spikes), torch.stack(voltage_trace)\n",
    "    return integrate"
   ]
  },
  {
   "cell_type": "code",
   "execution_count": 7,
   "id": "70c5fe33",
   "metadata": {},
   "outputs": [
    {
     "data": {
      "application/vnd.jupyter.widget-view+json": {
       "model_id": "b287312fb821402cb484526b8d8815e6",
       "version_major": 2,
       "version_minor": 0
      },
      "text/plain": [
       "interactive(children=(FloatSlider(value=40.0, continuous_update=False, description='tau_mem', max=200.0, min=1…"
      ]
     },
     "metadata": {},
     "output_type": "display_data"
    },
    {
     "data": {
      "text/plain": [
       "<Figure size 640x480 with 0 Axes>"
      ]
     },
     "metadata": {},
     "output_type": "display_data"
    },
    {
     "data": {
      "text/plain": [
       "<Figure size 640x480 with 0 Axes>"
      ]
     },
     "metadata": {},
     "output_type": "display_data"
    }
   ],
   "source": [
    "@interact(\n",
    "    tau_mem=FloatSlider(min=10,max=200,step=1.0, value=40),\n",
    "    tau_syn=FloatSlider(min=10,max=200,step=1.0, value=60),\n",
    "    v_th=FloatSlider(min=0.1, max=2.0, step=0.1, value=0.8),\n",
    "    t0=IntSlider(min=0, max=1000, step=1, value=85),\n",
    "    t1=IntSlider(min=0, max=1000, step=1, value=150),\n",
    ")\n",
    "def experiment(tau_mem, tau_syn, v_th, t0, t1):\n",
    "    plt.figure()\n",
    "    num_neurons = 1\n",
    "    tau_syn_inv = torch.tensor([1/(tau_syn * 0.001)])\n",
    "    tau_mem_inv = torch.tensor([1/(tau_mem * 0.001)])\n",
    "    data = torch.zeros(1000,num_neurons)\n",
    "    data[20] = 1.0\n",
    "    data[t0] = 1.0\n",
    "    data[t1] = 1.0\n",
    "\n",
    "    cell = norse.torch.LIFCell(p=norse.torch.LIFParameters(tau_mem_inv=tau_mem_inv, tau_syn_inv=tau_syn_inv, v_th=torch.as_tensor(v_th)))\n",
    "    lif_integrate = integrate_and_record_voltages(cell)\n",
    "\n",
    "    voltage_trace, _ = norse.torch.LI(p=norse.torch.LIParameters(tau_mem_inv=tau_mem_inv, tau_syn_inv=tau_syn_inv))(data)\n",
    "    zs, lif_voltage_trace = lif_integrate(data)\n",
    "    plt.xlabel('time [ms]')\n",
    "    plt.ylabel('membrane potential')\n",
    "    plt.plot(voltage_trace.detach(), label=\"LI\")\n",
    "    plt.plot(lif_voltage_trace.detach(), label=\"LIF\")\n",
    "    plt.axhline(v_th, color='grey')\n",
    "    plt.legend()\n",
    "    plt.show()"
   ]
  },
  {
   "cell_type": "code",
   "execution_count": null,
   "id": "5e6ff7a3",
   "metadata": {},
   "outputs": [],
   "source": []
  }
 ],
 "metadata": {
  "kernelspec": {
   "display_name": "Python 3 (ipykernel)",
   "language": "python",
   "name": "python3"
  },
  "language_info": {
   "codemirror_mode": {
    "name": "ipython",
    "version": 3
   },
   "file_extension": ".py",
   "mimetype": "text/x-python",
   "name": "python",
   "nbconvert_exporter": "python",
   "pygments_lexer": "ipython3",
   "version": "3.8.15"
  }
 },
 "nbformat": 4,
 "nbformat_minor": 5
}
