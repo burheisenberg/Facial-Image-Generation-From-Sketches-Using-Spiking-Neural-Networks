{
 "cells": [
  {
   "cell_type": "code",
   "execution_count": 1,
   "id": "e95c67b2",
   "metadata": {},
   "outputs": [],
   "source": [
    "import torch\n",
    "import norse\n",
    "import matplotlib.pyplot as plt"
   ]
  },
  {
   "cell_type": "code",
   "execution_count": 2,
   "id": "30309e5b",
   "metadata": {},
   "outputs": [
    {
     "data": {
      "text/plain": [
       "LIFRecurrentCell(input_size=200, hidden_size=100, p=LIFParameters(tau_syn_inv=tensor(200.), tau_mem_inv=tensor(100.), v_leak=tensor(0.), v_th=tensor(1.), v_reset=tensor(0.), method='super', alpha=tensor(100.)), autapses=False, dt=0.001)"
      ]
     },
     "execution_count": 2,
     "metadata": {},
     "output_type": "execute_result"
    }
   ],
   "source": [
    "from norse.torch.module import LIFRecurrentCell\n",
    "\n",
    "m = LIFRecurrentCell(input_size=200, hidden_size=100)\n",
    "m"
   ]
  },
  {
   "cell_type": "code",
   "execution_count": 3,
   "id": "8ee31ea2",
   "metadata": {},
   "outputs": [
    {
     "data": {
      "text/plain": [
       "Text(0.5, 0, '$\\\\tau_{m}^{-1}$ [ms]')"
      ]
     },
     "execution_count": 3,
     "metadata": {},
     "output_type": "execute_result"
    },
    {
     "data": {
      "image/png": "[encoded data removed]",
      "text/plain": [
       "<Figure size 640x480 with 1 Axes>"
      ]
     },
     "metadata": {},
     "output_type": "display_data"
    }
   ],
   "source": [
    "import numpy as np\n",
    "\n",
    "counts, bins = np.histogram(norse.torch.functional.lif.LIFParameters().tau_mem_inv + 20*torch.randn(100))\n",
    "plt.hist(bins[:-1], bins, weights=counts, histtype='step')\n",
    "plt.xlabel('$\\\\tau_{m}^{-1}$ [ms]')"
   ]
  },
  {
   "cell_type": "code",
   "execution_count": 4,
   "id": "20cf419d",
   "metadata": {},
   "outputs": [
    {
     "data": {
      "text/plain": [
       "[Parameter containing:\n",
       " tensor([[ 0.2676, -0.0522, -0.1535,  ..., -0.0796,  0.0449, -0.1860],\n",
       "         [-0.1382, -0.0764,  0.2094,  ..., -0.1871,  0.1839,  0.0287],\n",
       "         [ 0.0176, -0.0103, -0.0950,  ...,  0.1223,  0.0826,  0.0538],\n",
       "         ...,\n",
       "         [ 0.1224, -0.0560, -0.0899,  ..., -0.1222,  0.0271, -0.0551],\n",
       "         [-0.1358,  0.2065, -0.1202,  ..., -0.1130, -0.0658,  0.0647],\n",
       "         [ 0.0817, -0.1595, -0.0158,  ..., -0.1951,  0.0296, -0.0725]],\n",
       "        requires_grad=True),\n",
       " Parameter containing:\n",
       " tensor([[ 0.0000, -0.3308,  0.2812,  ...,  0.0482,  0.1021, -0.0473],\n",
       "         [ 0.2430,  0.0000, -0.1967,  ..., -0.1084, -0.0535,  0.1419],\n",
       "         [-0.0912, -0.1800,  0.0000,  ..., -0.0947,  0.1667, -0.0870],\n",
       "         ...,\n",
       "         [-0.2257, -0.0088, -0.0096,  ...,  0.0000,  0.0473,  0.2280],\n",
       "         [ 0.1572, -0.1428,  0.0221,  ...,  0.2339,  0.0000,  0.0244],\n",
       "         [ 0.1511,  0.2873, -0.1049,  ...,  0.1005, -0.0197,  0.0000]],\n",
       "        requires_grad=True)]"
      ]
     },
     "execution_count": 4,
     "metadata": {},
     "output_type": "execute_result"
    }
   ],
   "source": [
    "list(m.parameters())"
   ]
  },
  {
   "cell_type": "code",
   "execution_count": 5,
   "id": "457ce72e",
   "metadata": {},
   "outputs": [],
   "source": [
    "class ParametrizedLIFRecurrentCell(torch.nn.Module):\n",
    "    def __init__(self, input_size, hidden_size):\n",
    "        super(ParametrizedLIFRecurrentCell, self).__init__()\n",
    "        self.tau_mem_inv = torch.nn.Parameter(norse.torch.functional.lif.LIFParameters().tau_mem_inv + 20*torch.randn(hidden_size))\n",
    "        self.v_th = torch.nn.Parameter(0.5 + 0.1 * torch.randn(hidden_size))\n",
    "        self.cell = norse.torch.module.LIFRecurrentCell(input_size=input_size, hidden_size=hidden_size, \n",
    "                                                        p = norse.torch.functional.lif.LIFParameters(\n",
    "                                                            tau_mem_inv = self.tau_mem_inv,\n",
    "                                                            v_th = self.v_th,\n",
    "                                                            alpha = 100,\n",
    "                                                        )\n",
    "                                                        \n",
    "        )\n",
    "\n",
    "    def forward(self, x, s = None):\n",
    "        return self.cell(x, s)"
   ]
  },
  {
   "cell_type": "code",
   "execution_count": 6,
   "id": "42fd1615",
   "metadata": {},
   "outputs": [
    {
     "data": {
      "text/plain": [
       "ParametrizedLIFRecurrentCell(\n",
       "  (cell): LIFRecurrentCell(\n",
       "    input_size=200, hidden_size=100, p=LIFParameters(tau_syn_inv=tensor(200.), tau_mem_inv=Parameter containing:\n",
       "    tensor([104.7281, 101.6396,  84.8718,  83.2864,  69.8226, 117.4626,  85.0936,\n",
       "            116.4657,  97.2168, 111.4760,  46.5451,  91.2979, 112.2793, 119.0442,\n",
       "            112.2964, 100.9243, 110.3354, 106.6789,  89.2081,  81.2224,  71.0582,\n",
       "            118.2742,  91.8783, 121.2497, 112.2054,  80.3273,  74.1310,  68.0041,\n",
       "            101.4786, 100.4249,  91.0892,  74.2219,  71.8813, 131.9022,  92.1211,\n",
       "             90.6513, 102.2527,  86.0426, 113.5470,  81.2334, 126.0289,  94.8032,\n",
       "             74.3985,  81.9489, 112.5691,  83.5453,  81.7073, 143.4576, 123.0047,\n",
       "             80.6595, 119.3603, 122.0634, 102.5019, 113.9776, 113.9275, 101.8154,\n",
       "            110.5143,  93.5697,  46.9966, 107.6363,  57.9739, 102.0289,  84.0718,\n",
       "            114.5609, 123.8620, 119.5837, 117.7111,  99.6729, 116.9006, 114.9702,\n",
       "            118.6003, 122.7181, 113.2955, 117.9572,  97.3156,  87.0879, 102.6742,\n",
       "            113.3445,  93.7374, 128.8436, 112.2898,  61.8087, 100.4912,  84.5942,\n",
       "            113.4120, 108.8689, 134.0440,  91.6862, 149.3351, 139.7452,  68.8647,\n",
       "             74.8009,  84.9799, 101.2894, 107.1991,  85.5327, 114.4263, 103.0511,\n",
       "             99.7624,  68.6526], requires_grad=True), v_leak=tensor(0.), v_th=Parameter containing:\n",
       "    tensor([0.7435, 0.5133, 0.3720, 0.6015, 0.6669, 0.4296, 0.4091, 0.3752, 0.5553,\n",
       "            0.4329, 0.4390, 0.3874, 0.4842, 0.6815, 0.4157, 0.3131, 0.5933, 0.3709,\n",
       "            0.4134, 0.5641, 0.5247, 0.3356, 0.4992, 0.5615, 0.4431, 0.3799, 0.5999,\n",
       "            0.4498, 0.4494, 0.4007, 0.4326, 0.4727, 0.4914, 0.4813, 0.5421, 0.4023,\n",
       "            0.6030, 0.5231, 0.5033, 0.6114, 0.2965, 0.7197, 0.6218, 0.5604, 0.4431,\n",
       "            0.4933, 0.5448, 0.3806, 0.6285, 0.5190, 0.5860, 0.4062, 0.3289, 0.5164,\n",
       "            0.2660, 0.6358, 0.2853, 0.4450, 0.4134, 0.4770, 0.6473, 0.5090, 0.5278,\n",
       "            0.5199, 0.3639, 0.4981, 0.5041, 0.4243, 0.4002, 0.2675, 0.5755, 0.4994,\n",
       "            0.6066, 0.5891, 0.7047, 0.2762, 0.6275, 0.6025, 0.5125, 0.4244, 0.6603,\n",
       "            0.3972, 0.5853, 0.5240, 0.4339, 0.5223, 0.2833, 0.4830, 0.5769, 0.4296,\n",
       "            0.4530, 0.5629, 0.4827, 0.3826, 0.3325, 0.6775, 0.5868, 0.4720, 0.3863,\n",
       "            0.5143], requires_grad=True), v_reset=tensor(0.), method='super', alpha=tensor(100)), autapses=False, dt=0.001\n",
       "  )\n",
       ")"
      ]
     },
     "execution_count": 6,
     "metadata": {},
     "output_type": "execute_result"
    }
   ],
   "source": [
    "m = ParametrizedLIFRecurrentCell(200, 100)\n",
    "m"
   ]
  },
  {
   "cell_type": "code",
   "execution_count": 7,
   "id": "1ec9f8c3",
   "metadata": {},
   "outputs": [
    {
     "data": {
      "text/plain": [
       "[Parameter containing:\n",
       " tensor([104.7281, 101.6396,  84.8718,  83.2864,  69.8226, 117.4626,  85.0936,\n",
       "         116.4657,  97.2168, 111.4760,  46.5451,  91.2979, 112.2793, 119.0442,\n",
       "         112.2964, 100.9243, 110.3354, 106.6789,  89.2081,  81.2224,  71.0582,\n",
       "         118.2742,  91.8783, 121.2497, 112.2054,  80.3273,  74.1310,  68.0041,\n",
       "         101.4786, 100.4249,  91.0892,  74.2219,  71.8813, 131.9022,  92.1211,\n",
       "          90.6513, 102.2527,  86.0426, 113.5470,  81.2334, 126.0289,  94.8032,\n",
       "          74.3985,  81.9489, 112.5691,  83.5453,  81.7073, 143.4576, 123.0047,\n",
       "          80.6595, 119.3603, 122.0634, 102.5019, 113.9776, 113.9275, 101.8154,\n",
       "         110.5143,  93.5697,  46.9966, 107.6363,  57.9739, 102.0289,  84.0718,\n",
       "         114.5609, 123.8620, 119.5837, 117.7111,  99.6729, 116.9006, 114.9702,\n",
       "         118.6003, 122.7181, 113.2955, 117.9572,  97.3156,  87.0879, 102.6742,\n",
       "         113.3445,  93.7374, 128.8436, 112.2898,  61.8087, 100.4912,  84.5942,\n",
       "         113.4120, 108.8689, 134.0440,  91.6862, 149.3351, 139.7452,  68.8647,\n",
       "          74.8009,  84.9799, 101.2894, 107.1991,  85.5327, 114.4263, 103.0511,\n",
       "          99.7624,  68.6526], requires_grad=True),\n",
       " Parameter containing:\n",
       " tensor([0.7435, 0.5133, 0.3720, 0.6015, 0.6669, 0.4296, 0.4091, 0.3752, 0.5553,\n",
       "         0.4329, 0.4390, 0.3874, 0.4842, 0.6815, 0.4157, 0.3131, 0.5933, 0.3709,\n",
       "         0.4134, 0.5641, 0.5247, 0.3356, 0.4992, 0.5615, 0.4431, 0.3799, 0.5999,\n",
       "         0.4498, 0.4494, 0.4007, 0.4326, 0.4727, 0.4914, 0.4813, 0.5421, 0.4023,\n",
       "         0.6030, 0.5231, 0.5033, 0.6114, 0.2965, 0.7197, 0.6218, 0.5604, 0.4431,\n",
       "         0.4933, 0.5448, 0.3806, 0.6285, 0.5190, 0.5860, 0.4062, 0.3289, 0.5164,\n",
       "         0.2660, 0.6358, 0.2853, 0.4450, 0.4134, 0.4770, 0.6473, 0.5090, 0.5278,\n",
       "         0.5199, 0.3639, 0.4981, 0.5041, 0.4243, 0.4002, 0.2675, 0.5755, 0.4994,\n",
       "         0.6066, 0.5891, 0.7047, 0.2762, 0.6275, 0.6025, 0.5125, 0.4244, 0.6603,\n",
       "         0.3972, 0.5853, 0.5240, 0.4339, 0.5223, 0.2833, 0.4830, 0.5769, 0.4296,\n",
       "         0.4530, 0.5629, 0.4827, 0.3826, 0.3325, 0.6775, 0.5868, 0.4720, 0.3863,\n",
       "         0.5143], requires_grad=True),\n",
       " Parameter containing:\n",
       " tensor([[ 0.2009,  0.0665, -0.2251,  ..., -0.0762,  0.0702,  0.1800],\n",
       "         [ 0.2000, -0.0284, -0.0486,  ...,  0.1700, -0.1752, -0.2086],\n",
       "         [-0.0204, -0.1307, -0.0973,  ..., -0.0303, -0.1382, -0.2377],\n",
       "         ...,\n",
       "         [-0.1618, -0.0552,  0.2516,  ...,  0.0100, -0.0839, -0.2230],\n",
       "         [ 0.1737, -0.0031,  0.1414,  ...,  0.0466, -0.0283, -0.1034],\n",
       "         [ 0.0079, -0.1335, -0.2141,  ..., -0.0331, -0.0034,  0.1177]],\n",
       "        requires_grad=True),\n",
       " Parameter containing:\n",
       " tensor([[ 0.0000, -0.2538, -0.0617,  ...,  0.0912,  0.2499,  0.0781],\n",
       "         [-0.3389,  0.0000, -0.0193,  ..., -0.1088,  0.1796, -0.1560],\n",
       "         [ 0.0797, -0.0580,  0.0000,  ...,  0.0533, -0.1911,  0.1207],\n",
       "         ...,\n",
       "         [-0.1609,  0.2670, -0.0387,  ...,  0.0000,  0.0267,  0.0472],\n",
       "         [ 0.0829, -0.0891, -0.0377,  ...,  0.2959,  0.0000, -0.1230],\n",
       "         [-0.0431,  0.0513, -0.1008,  ..., -0.0521,  0.1717,  0.0000]],\n",
       "        requires_grad=True)]"
      ]
     },
     "execution_count": 7,
     "metadata": {},
     "output_type": "execute_result"
    }
   ],
   "source": [
    "list(m.parameters())"
   ]
  },
  {
   "cell_type": "code",
   "execution_count": 8,
   "id": "40a40b69",
   "metadata": {},
   "outputs": [
    {
     "name": "stdout",
     "output_type": "stream",
     "text": [
      "Downloading http://yann.lecun.com/exdb/mnist/train-images-idx3-ubyte.gz\n",
      "Downloading http://yann.lecun.com/exdb/mnist/train-images-idx3-ubyte.gz to .\\MNIST\\raw\\train-images-idx3-ubyte.gz\n"
     ]
    },
    {
     "name": "stderr",
     "output_type": "stream",
     "text": [
      "100%|██████████████████████████████████████████████████████████████████| 9912422/9912422 [00:02<00:00, 4712023.10it/s]\n"
     ]
    },
    {
     "name": "stdout",
     "output_type": "stream",
     "text": [
      "Extracting .\\MNIST\\raw\\train-images-idx3-ubyte.gz to .\\MNIST\\raw\n",
      "\n",
      "Downloading http://yann.lecun.com/exdb/mnist/train-labels-idx1-ubyte.gz\n",
      "Downloading http://yann.lecun.com/exdb/mnist/train-labels-idx1-ubyte.gz to .\\MNIST\\raw\\train-labels-idx1-ubyte.gz\n"
     ]
    },
    {
     "name": "stderr",
     "output_type": "stream",
     "text": [
      "100%|█████████████████████████████████████████████████████████████████████| 28881/28881 [00:00<00:00, 28855572.61it/s]\n"
     ]
    },
    {
     "name": "stdout",
     "output_type": "stream",
     "text": [
      "Extracting .\\MNIST\\raw\\train-labels-idx1-ubyte.gz to .\\MNIST\\raw\n",
      "\n",
      "Downloading http://yann.lecun.com/exdb/mnist/t10k-images-idx3-ubyte.gz\n",
      "Downloading http://yann.lecun.com/exdb/mnist/t10k-images-idx3-ubyte.gz to .\\MNIST\\raw\\t10k-images-idx3-ubyte.gz\n"
     ]
    },
    {
     "name": "stderr",
     "output_type": "stream",
     "text": [
      "100%|██████████████████████████████████████████████████████████████████| 1648877/1648877 [00:00<00:00, 4369861.51it/s]\n"
     ]
    },
    {
     "name": "stdout",
     "output_type": "stream",
     "text": [
      "Extracting .\\MNIST\\raw\\t10k-images-idx3-ubyte.gz to .\\MNIST\\raw\n",
      "\n",
      "Downloading http://yann.lecun.com/exdb/mnist/t10k-labels-idx1-ubyte.gz\n",
      "Downloading http://yann.lecun.com/exdb/mnist/t10k-labels-idx1-ubyte.gz to .\\MNIST\\raw\\t10k-labels-idx1-ubyte.gz\n"
     ]
    },
    {
     "name": "stderr",
     "output_type": "stream",
     "text": [
      "100%|█████████████████████████████████████████████████████████████████████████████████████| 4542/4542 [00:00<?, ?it/s]"
     ]
    },
    {
     "name": "stdout",
     "output_type": "stream",
     "text": [
      "Extracting .\\MNIST\\raw\\t10k-labels-idx1-ubyte.gz to .\\MNIST\\raw\n",
      "\n"
     ]
    },
    {
     "name": "stderr",
     "output_type": "stream",
     "text": [
      "\n"
     ]
    }
   ],
   "source": [
    "import torchvision\n",
    "\n",
    "BATCH_SIZE = 256\n",
    "\n",
    "transform = torchvision.transforms.Compose(\n",
    "    [\n",
    "        torchvision.transforms.ToTensor(),\n",
    "        torchvision.transforms.Normalize((0.1307,), (0.3081,)),\n",
    "    ]\n",
    ")\n",
    "\n",
    "train_data = torchvision.datasets.MNIST(\n",
    "    root=\".\",\n",
    "    train=True,\n",
    "    download=True,\n",
    "    transform=transform,\n",
    ")\n",
    "\n",
    "train_loader = torch.utils.data.DataLoader(\n",
    "    train_data,\n",
    "    batch_size=BATCH_SIZE,\n",
    "    shuffle=True\n",
    ")\n",
    "\n",
    "test_loader = torch.utils.data.DataLoader(\n",
    "    torchvision.datasets.MNIST(\n",
    "        root=\".\",\n",
    "        train=False,\n",
    "        transform=transform,\n",
    "    ),\n",
    "    batch_size=BATCH_SIZE\n",
    ")"
   ]
  },
  {
   "cell_type": "code",
   "execution_count": 9,
   "id": "09414383",
   "metadata": {},
   "outputs": [],
   "source": [
    "from norse.torch import LICell\n",
    "\n",
    "class SNN(torch.nn.Module):\n",
    "    def __init__(self, \n",
    "                 input_features,\n",
    "                 hidden_features, \n",
    "                 output_features,\n",
    "                 recurrent_cell\n",
    "                ):\n",
    "        super(SNN, self).__init__()\n",
    "        self.cell = recurrent_cell\n",
    "        self.fc_out = torch.nn.Linear(hidden_features, output_features, bias=False)\n",
    "        self.out = LICell()\n",
    "        self.input_features = input_features\n",
    "                             \n",
    "    def forward(self, x):\n",
    "        seq_length, batch_size, _, _, _ = x.shape\n",
    "        s1 = so = None\n",
    "        voltages = []\n",
    "\n",
    "\n",
    "        for ts in range(seq_length):\n",
    "            z = x[ts, :, :, :].view(-1, self.input_features)\n",
    "            z, s1 = self.cell(z, s1)\n",
    "            z = self.fc_out(z)\n",
    "            vo, so = self.out(z, so)\n",
    "            voltages += [vo]\n",
    "        \n",
    "        return torch.stack(voltages)"
   ]
  },
  {
   "cell_type": "code",
   "execution_count": 10,
   "id": "af076925",
   "metadata": {},
   "outputs": [],
   "source": [
    "class Model(torch.nn.Module):\n",
    "    def __init__(self, encoder, snn, decoder):\n",
    "        super(Model, self).__init__()\n",
    "        self.encoder = encoder\n",
    "        self.snn = snn\n",
    "        self.decoder = decoder\n",
    "\n",
    "    def forward(self, x):\n",
    "        x = self.encoder(x)\n",
    "        x = self.snn(x)\n",
    "        log_p_y = self.decoder(x)\n",
    "        return log_p_y"
   ]
  },
  {
   "cell_type": "code",
   "execution_count": 11,
   "id": "bc2ff991",
   "metadata": {},
   "outputs": [],
   "source": [
    "from tqdm.notebook import tqdm, trange\n",
    "\n",
    "def train(model, device, train_loader, optimizer, epoch, max_epochs):\n",
    "    model.train()\n",
    "    losses = []\n",
    "\n",
    "    for (data, target) in tqdm(train_loader, leave=False):\n",
    "        data, target = data.to(device), target.to(device)\n",
    "        optimizer.zero_grad()\n",
    "        output = model(data)\n",
    "        loss = torch.nn.functional.nll_loss(output, target)\n",
    "        loss.backward()\n",
    "        optimizer.step()\n",
    "        losses.append(loss.item())\n",
    "\n",
    "    mean_loss = np.mean(losses)\n",
    "    return losses, mean_loss"
   ]
  },
  {
   "cell_type": "code",
   "execution_count": 12,
   "id": "2a38c184",
   "metadata": {},
   "outputs": [],
   "source": [
    "def test(model, device, test_loader, epoch):\n",
    "    model.eval()\n",
    "    test_loss = 0\n",
    "    correct = 0\n",
    "    with torch.no_grad():\n",
    "        for data, target in test_loader:\n",
    "            data, target = data.to(device), target.to(device)\n",
    "            output = model(data)\n",
    "            test_loss += torch.nn.functional.nll_loss(\n",
    "                output, target, reduction=\"sum\"\n",
    "            ).item()  # sum up batch loss\n",
    "            pred = output.argmax(\n",
    "                dim=1, keepdim=True\n",
    "            )  # get the index of the max log-probability\n",
    "            correct += pred.eq(target.view_as(pred)).sum().item()\n",
    "\n",
    "    test_loss /= len(test_loader.dataset)\n",
    "\n",
    "    accuracy = 100.0 * correct / len(test_loader.dataset)\n",
    "\n",
    "    return test_loss, accuracy"
   ]
  },
  {
   "cell_type": "code",
   "execution_count": 13,
   "id": "3cfc58e8",
   "metadata": {},
   "outputs": [],
   "source": [
    "from norse.torch import ConstantCurrentLIFEncoder\n",
    "\n",
    "def decode(x):\n",
    "    x, _ = torch.max(x, 0)\n",
    "    log_p_y = torch.nn.functional.log_softmax(x, dim=1)\n",
    "    return log_p_y\n",
    "\n",
    "\n",
    "T = 32\n",
    "LR = 0.002\n",
    "INPUT_FEATURES = 28*28\n",
    "HIDDEN_FEATURES = 100\n",
    "OUTPUT_FEATURES = 10\n",
    "EPOCHS = 5\n",
    "\n",
    "if torch.cuda.is_available():\n",
    "    DEVICE = torch.device(\"cuda\")\n",
    "else:\n",
    "    DEVICE = torch.device(\"cpu\")"
   ]
  },
  {
   "cell_type": "code",
   "execution_count": 14,
   "id": "22e821a2",
   "metadata": {},
   "outputs": [],
   "source": [
    "def run_training(model, optimizer, epochs = EPOCHS):\n",
    "    training_losses = []\n",
    "    mean_losses = []\n",
    "    test_losses = []\n",
    "    accuracies = []\n",
    "\n",
    "    torch.autograd.set_detect_anomaly(True)\n",
    "\n",
    "    for epoch in trange(epochs):\n",
    "        training_loss, mean_loss = train(model, DEVICE, train_loader, optimizer, epoch, max_epochs=EPOCHS)\n",
    "        test_loss, accuracy = test(model, DEVICE, test_loader, epoch)\n",
    "        training_losses += training_loss\n",
    "        mean_losses.append(mean_loss)\n",
    "        test_losses.append(test_loss)\n",
    "        accuracies.append(accuracy)\n",
    "\n",
    "    print(f\"final accuracy: {accuracies[-1]}\")\n",
    "    return model"
   ]
  },
  {
   "cell_type": "code",
   "execution_count": 15,
   "id": "ec087b39",
   "metadata": {},
   "outputs": [],
   "source": [
    "model = Model(\n",
    "    encoder=ConstantCurrentLIFEncoder(\n",
    "      seq_length=T,\n",
    "    ),\n",
    "    snn=SNN(\n",
    "      input_features=INPUT_FEATURES,\n",
    "      hidden_features=HIDDEN_FEATURES,\n",
    "      output_features=OUTPUT_FEATURES,\n",
    "      recurrent_cell=ParametrizedLIFRecurrentCell(\n",
    "            input_size=28*28, \n",
    "            hidden_size=100\n",
    "      )\n",
    "    ),\n",
    "    decoder=decode\n",
    ").to(DEVICE)\n",
    "\n",
    "optimizer = torch.optim.Adam(model.parameters(), lr=LR)"
   ]
  },
  {
   "cell_type": "code",
   "execution_count": 16,
   "id": "680f7607",
   "metadata": {},
   "outputs": [],
   "source": [
    "tau_mem_inv_before = model.snn.cell.cell.p.tau_mem_inv.cpu().detach().numpy()\n",
    "v_th_before = model.snn.cell.cell.p.v_th.cpu().detach().numpy()"
   ]
  },
  {
   "cell_type": "code",
   "execution_count": 17,
   "id": "66ecd875",
   "metadata": {},
   "outputs": [
    {
     "data": {
      "application/vnd.jupyter.widget-view+json": {
       "model_id": "e5c40fbee7af4a3dace22344ce3a5fd3",
       "version_major": 2,
       "version_minor": 0
      },
      "text/plain": [
       "  0%|          | 0/2 [00:00<?, ?it/s]"
      ]
     },
     "metadata": {},
     "output_type": "display_data"
    },
    {
     "data": {
      "application/vnd.jupyter.widget-view+json": {
       "model_id": "",
       "version_major": 2,
       "version_minor": 0
      },
      "text/plain": [
       "  0%|          | 0/235 [00:00<?, ?it/s]"
      ]
     },
     "metadata": {},
     "output_type": "display_data"
    },
    {
     "data": {
      "application/vnd.jupyter.widget-view+json": {
       "model_id": "",
       "version_major": 2,
       "version_minor": 0
      },
      "text/plain": [
       "  0%|          | 0/235 [00:00<?, ?it/s]"
      ]
     },
     "metadata": {},
     "output_type": "display_data"
    },
    {
     "name": "stdout",
     "output_type": "stream",
     "text": [
      "final accuracy: 94.32\n"
     ]
    }
   ],
   "source": [
    "model_after = run_training(model, optimizer, epochs=2)"
   ]
  },
  {
   "cell_type": "code",
   "execution_count": 18,
   "id": "9b4cf097",
   "metadata": {},
   "outputs": [],
   "source": [
    "tau_mem_inv_after = model_after.snn.cell.cell.p.tau_mem_inv.cpu().detach().numpy()\n",
    "v_th_after = model_after.snn.cell.cell.p.v_th.cpu().detach().numpy()"
   ]
  },
  {
   "cell_type": "code",
   "execution_count": 19,
   "id": "cfccb418",
   "metadata": {},
   "outputs": [
    {
     "data": {
      "text/plain": [
       "<matplotlib.legend.Legend at 0x172f3d23ac0>"
      ]
     },
     "execution_count": 19,
     "metadata": {},
     "output_type": "execute_result"
    },
    {
     "data": {
      "image/png": "[encoded data removed]",
      "text/plain": [
       "<Figure size 900x500 with 1 Axes>"
      ]
     },
     "metadata": {},
     "output_type": "display_data"
    }
   ],
   "source": [
    "counts, bins = np.histogram(tau_mem_inv_before)\n",
    "fig, ax = plt.subplots(figsize=(9,5))\n",
    "ax.hist(bins[:-1], bins, weights=counts, histtype='step', label='before')\n",
    "counts, bins = np.histogram(tau_mem_inv_after)\n",
    "ax.hist(bins[:-1], bins, weights=counts, histtype='step', label='after')\n",
    "ax.set_xlabel('$\\\\tau_{m}^{-1}$ [ms]')\n",
    "ax.legend()"
   ]
  },
  {
   "cell_type": "code",
   "execution_count": 20,
   "id": "33f38d83",
   "metadata": {},
   "outputs": [
    {
     "data": {
      "text/plain": [
       "<matplotlib.legend.Legend at 0x17289a9b6d0>"
      ]
     },
     "execution_count": 20,
     "metadata": {},
     "output_type": "execute_result"
    },
    {
     "data": {
      "image/png": "[encoded data removed]",
      "text/plain": [
       "<Figure size 900x500 with 1 Axes>"
      ]
     },
     "metadata": {},
     "output_type": "display_data"
    }
   ],
   "source": [
    "counts, bins = np.histogram(v_th_before)\n",
    "fig, ax = plt.subplots(figsize=(9,5))\n",
    "ax.hist(bins[:-1], bins, weights=counts, histtype='step', label='before')\n",
    "counts, bins = np.histogram(v_th_after)\n",
    "ax.hist(bins[:-1], bins, weights=counts, histtype='step', label='after')\n",
    "ax.set_xlabel('$v_{th}$ [a.u.]')\n",
    "ax.legend()"
   ]
  },
  {
   "cell_type": "code",
   "execution_count": null,
   "id": "08a77bd6",
   "metadata": {},
   "outputs": [],
   "source": []
  }
 ],
 "metadata": {
  "kernelspec": {
   "display_name": "Python 3 (ipykernel)",
   "language": "python",
   "name": "python3"
  },
  "language_info": {
   "codemirror_mode": {
    "name": "ipython",
    "version": 3
   },
   "file_extension": ".py",
   "mimetype": "text/x-python",
   "name": "python",
   "nbconvert_exporter": "python",
   "pygments_lexer": "ipython3",
   "version": "3.8.15"
  }
 },
 "nbformat": 4,
 "nbformat_minor": 5
}
